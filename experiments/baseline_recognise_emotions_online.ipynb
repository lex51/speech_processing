{
 "cells": [
  {
   "cell_type": "markdown",
   "id": "100be5c1",
   "metadata": {},
   "source": [
    "Слегка модифицированный [ноутбук](https://github.com/salute-developers/golos/blob/master/dusha/demo/recognise_emotions_online.ipynb)"
   ]
  },
  {
   "cell_type": "code",
   "execution_count": 1,
   "id": "9127deef",
   "metadata": {},
   "outputs": [],
   "source": [
    "# # установка недостающих библиотек\n",
    "# \n",
    "# !pip install lazycon\n",
    "# !pip install torch==1.8.1\n",
    "# !pip install onnx\n",
    "# !pip install -U librosa\n",
    "# !pip install torchaudio==0.8.1\n",
    "# !pip install scikit-learn==0.24.0\n",
    "# !pip install coremltools \n",
    "# !pip install sounddevice\n",
    "# !pip install -U numba"
   ]
  },
  {
   "cell_type": "code",
   "execution_count": null,
   "id": "79a2f3a4",
   "metadata": {},
   "outputs": [],
   "source": []
  },
  {
   "cell_type": "code",
   "execution_count": 2,
   "id": "840d6569",
   "metadata": {},
   "outputs": [],
   "source": [
    "import torch\n",
    "import onnx\n",
    "import toml\n",
    "import librosa\n",
    "import lazycon\n",
    "import time\n",
    "import os, sys\n",
    "\n",
    "# import coremltools as ct\n",
    "import numpy as np\n",
    "import soundfile as sf\n",
    "import sounddevice as sd\n",
    "\n",
    "import pandas as pd\n",
    "\n",
    "from glob import glob\n",
    "from pathlib import Path\n",
    "from tqdm.notebook import tqdm\n",
    "\n",
    "__import__('warnings').filterwarnings(\"ignore\")"
   ]
  },
  {
   "cell_type": "code",
   "execution_count": 3,
   "id": "18e88c88",
   "metadata": {},
   "outputs": [],
   "source": [
    "sys.path.append('./experiments')\n",
    "import core"
   ]
  },
  {
   "cell_type": "code",
   "execution_count": 4,
   "id": "c00c3b46",
   "metadata": {},
   "outputs": [],
   "source": [
    "def create_features(\n",
    "    data: np.array,\n",
    "    hop_length_coef: float = 0.01,\n",
    "    win_length_coef: float = 0.02,\n",
    "    sample_rate: int = 16000,\n",
    "    n_mels: int = 64,\n",
    ") -> np.array:\n",
    "    \"\"\"\n",
    "    As an input all models use standard speech features:\n",
    "    64 Mel-filterbank calculated from 20ms windows with a 10ms overlap.\n",
    "    \"\"\"\n",
    "\n",
    "    hop_length = int(sample_rate * hop_length_coef)\n",
    "    win_length = int(sample_rate * win_length_coef)\n",
    "    if len(data) != 0:\n",
    "        spec = librosa.feature.melspectrogram(\n",
    "                    y=data,\n",
    "                    sr=sample_rate,\n",
    "                    hop_length=hop_length,\n",
    "                    n_fft=win_length,\n",
    "                    n_mels=n_mels,\n",
    "                )\n",
    "    else:\n",
    "        raise AttributeError\n",
    "    mel_spec = librosa.power_to_db(spec, ref=np.max)\n",
    "\n",
    "    return mel_spec"
   ]
  },
  {
   "cell_type": "code",
   "execution_count": 5,
   "id": "9587b9e7-36e4-4523-9604-49ddf1bf0931",
   "metadata": {},
   "outputs": [],
   "source": [
    "def create_features_for_audio(\n",
    "    wav_name: str,\n",
    "    hop_length_coef: float = 0.01,\n",
    "    win_length_coef: float = 0.02,\n",
    "    sample_rate: int = 16000,\n",
    "    n_mels: int = 64,\n",
    ") -> np.array:\n",
    "    \"\"\"\n",
    "    As an input all models use standard speech features:\n",
    "    64 Mel-filterbank calculated from 20ms windows with a 10ms overlap.\n",
    "    \"\"\"\n",
    "\n",
    "    hop_length = int(sample_rate * hop_length_coef)\n",
    "    win_length = int(sample_rate * win_length_coef)\n",
    "    data, rate = librosa.load(wav_name, sr=sample_rate)\n",
    "#     print(data)\n",
    "    if len(data) != 0:\n",
    "        spec = librosa.feature.melspectrogram(\n",
    "                    y=data,\n",
    "                    sr=rate,\n",
    "                    hop_length=hop_length,\n",
    "                    n_fft=win_length,\n",
    "                    n_mels=n_mels,\n",
    "                )\n",
    "    else:\n",
    "        raise AttributeError\n",
    "    mel_spec = librosa.power_to_db(spec, ref=np.max)\n",
    "    return mel_spec"
   ]
  },
  {
   "cell_type": "code",
   "execution_count": 46,
   "id": "26a9de85",
   "metadata": {},
   "outputs": [],
   "source": [
    "def index2name(\n",
    "    index: int\n",
    ") -> str:\n",
    "    class_dict = {0:\"angry\", 1:\"sad\", 2:\"neutral\", 3:\"positive\"}\n",
    "    \n",
    "    if index > len(class_dict) or index < 0:\n",
    "        raise AttributeError\n",
    "    \n",
    "    return class_dict[index]\n",
    "\n",
    "name2index = {emotion: num for num, emotion in {0:\"angry\", 1:\"sad\", 2:\"neutral\", 3:\"positive\"}.items()}"
   ]
  },
  {
   "cell_type": "code",
   "execution_count": 7,
   "id": "db6f2fda",
   "metadata": {},
   "outputs": [],
   "source": [
    "dir_path = './model/'\n",
    "model_name = 'podcasts_finetune_old_w_lr_1e-3_try1'\n",
    "device = 'cpu'"
   ]
  },
  {
   "cell_type": "code",
   "execution_count": 8,
   "id": "9b615974",
   "metadata": {
    "scrolled": false
   },
   "outputs": [
    {
     "data": {
      "text/plain": [
       "ConvSelfAttentionMobileNet(\n",
       "  (features): Sequential(\n",
       "    (0): ConvBNActivation(\n",
       "      (0): Conv2d(1, 4, kernel_size=(3, 3), stride=(1, 1), padding=(1, 1), bias=False)\n",
       "      (1): BatchNorm2d(4, eps=1e-05, momentum=0.1, affine=True, track_running_stats=True)\n",
       "      (2): ReLU6(inplace=True)\n",
       "    )\n",
       "    (1): InvertedResidual(\n",
       "      (conv): Sequential(\n",
       "        (0): ConvBNActivation(\n",
       "          (0): Conv2d(4, 4, kernel_size=(3, 3), stride=(1, 1), padding=(1, 1), groups=4, bias=False)\n",
       "          (1): BatchNorm2d(4, eps=1e-05, momentum=0.1, affine=True, track_running_stats=True)\n",
       "          (2): ReLU6(inplace=True)\n",
       "        )\n",
       "        (1): Conv2d(4, 16, kernel_size=(1, 1), stride=(1, 1), bias=False)\n",
       "        (2): BatchNorm2d(16, eps=1e-05, momentum=0.1, affine=True, track_running_stats=True)\n",
       "      )\n",
       "    )\n",
       "    (2): InvertedResidual(\n",
       "      (conv): Sequential(\n",
       "        (0): ConvBNActivation(\n",
       "          (0): Conv2d(16, 32, kernel_size=(1, 1), stride=(1, 1), bias=False)\n",
       "          (1): BatchNorm2d(32, eps=1e-05, momentum=0.1, affine=True, track_running_stats=True)\n",
       "          (2): ReLU6(inplace=True)\n",
       "        )\n",
       "        (1): ConvBNActivation(\n",
       "          (0): Conv2d(32, 32, kernel_size=(3, 3), stride=(2, 2), padding=(1, 1), groups=32, bias=False)\n",
       "          (1): BatchNorm2d(32, eps=1e-05, momentum=0.1, affine=True, track_running_stats=True)\n",
       "          (2): ReLU6(inplace=True)\n",
       "        )\n",
       "        (2): Conv2d(32, 32, kernel_size=(1, 1), stride=(1, 1), bias=False)\n",
       "        (3): BatchNorm2d(32, eps=1e-05, momentum=0.1, affine=True, track_running_stats=True)\n",
       "      )\n",
       "    )\n",
       "    (3): InvertedResidual(\n",
       "      (conv): Sequential(\n",
       "        (0): ConvBNActivation(\n",
       "          (0): Conv2d(32, 64, kernel_size=(1, 1), stride=(1, 1), bias=False)\n",
       "          (1): BatchNorm2d(64, eps=1e-05, momentum=0.1, affine=True, track_running_stats=True)\n",
       "          (2): ReLU6(inplace=True)\n",
       "        )\n",
       "        (1): ConvBNActivation(\n",
       "          (0): Conv2d(64, 64, kernel_size=(3, 3), stride=(1, 1), padding=(1, 1), groups=64, bias=False)\n",
       "          (1): BatchNorm2d(64, eps=1e-05, momentum=0.1, affine=True, track_running_stats=True)\n",
       "          (2): ReLU6(inplace=True)\n",
       "        )\n",
       "        (2): Conv2d(64, 32, kernel_size=(1, 1), stride=(1, 1), bias=False)\n",
       "        (3): BatchNorm2d(32, eps=1e-05, momentum=0.1, affine=True, track_running_stats=True)\n",
       "      )\n",
       "    )\n",
       "    (4): InvertedResidual(\n",
       "      (conv): Sequential(\n",
       "        (0): ConvBNActivation(\n",
       "          (0): Conv2d(32, 64, kernel_size=(1, 1), stride=(1, 1), bias=False)\n",
       "          (1): BatchNorm2d(64, eps=1e-05, momentum=0.1, affine=True, track_running_stats=True)\n",
       "          (2): ReLU6(inplace=True)\n",
       "        )\n",
       "        (1): ConvBNActivation(\n",
       "          (0): Conv2d(64, 64, kernel_size=(3, 3), stride=(2, 2), padding=(1, 1), groups=64, bias=False)\n",
       "          (1): BatchNorm2d(64, eps=1e-05, momentum=0.1, affine=True, track_running_stats=True)\n",
       "          (2): ReLU6(inplace=True)\n",
       "        )\n",
       "        (2): Conv2d(64, 64, kernel_size=(1, 1), stride=(1, 1), bias=False)\n",
       "        (3): BatchNorm2d(64, eps=1e-05, momentum=0.1, affine=True, track_running_stats=True)\n",
       "      )\n",
       "    )\n",
       "    (5): InvertedResidual(\n",
       "      (conv): Sequential(\n",
       "        (0): ConvBNActivation(\n",
       "          (0): Conv2d(64, 128, kernel_size=(1, 1), stride=(1, 1), bias=False)\n",
       "          (1): BatchNorm2d(128, eps=1e-05, momentum=0.1, affine=True, track_running_stats=True)\n",
       "          (2): ReLU6(inplace=True)\n",
       "        )\n",
       "        (1): ConvBNActivation(\n",
       "          (0): Conv2d(128, 128, kernel_size=(3, 3), stride=(1, 1), padding=(1, 1), groups=128, bias=False)\n",
       "          (1): BatchNorm2d(128, eps=1e-05, momentum=0.1, affine=True, track_running_stats=True)\n",
       "          (2): ReLU6(inplace=True)\n",
       "        )\n",
       "        (2): Conv2d(128, 64, kernel_size=(1, 1), stride=(1, 1), bias=False)\n",
       "        (3): BatchNorm2d(64, eps=1e-05, momentum=0.1, affine=True, track_running_stats=True)\n",
       "      )\n",
       "    )\n",
       "    (6): InvertedResidual(\n",
       "      (conv): Sequential(\n",
       "        (0): ConvBNActivation(\n",
       "          (0): Conv2d(64, 128, kernel_size=(1, 1), stride=(1, 1), bias=False)\n",
       "          (1): BatchNorm2d(128, eps=1e-05, momentum=0.1, affine=True, track_running_stats=True)\n",
       "          (2): ReLU6(inplace=True)\n",
       "        )\n",
       "        (1): ConvBNActivation(\n",
       "          (0): Conv2d(128, 128, kernel_size=(3, 3), stride=(1, 1), padding=(1, 1), groups=128, bias=False)\n",
       "          (1): BatchNorm2d(128, eps=1e-05, momentum=0.1, affine=True, track_running_stats=True)\n",
       "          (2): ReLU6(inplace=True)\n",
       "        )\n",
       "        (2): Conv2d(128, 64, kernel_size=(1, 1), stride=(1, 1), bias=False)\n",
       "        (3): BatchNorm2d(64, eps=1e-05, momentum=0.1, affine=True, track_running_stats=True)\n",
       "      )\n",
       "    )\n",
       "    (7): InvertedResidual(\n",
       "      (conv): Sequential(\n",
       "        (0): ConvBNActivation(\n",
       "          (0): Conv2d(64, 128, kernel_size=(1, 1), stride=(1, 1), bias=False)\n",
       "          (1): BatchNorm2d(128, eps=1e-05, momentum=0.1, affine=True, track_running_stats=True)\n",
       "          (2): ReLU6(inplace=True)\n",
       "        )\n",
       "        (1): ConvBNActivation(\n",
       "          (0): Conv2d(128, 128, kernel_size=(3, 3), stride=(1, 1), padding=(1, 1), groups=128, bias=False)\n",
       "          (1): BatchNorm2d(128, eps=1e-05, momentum=0.1, affine=True, track_running_stats=True)\n",
       "          (2): ReLU6(inplace=True)\n",
       "        )\n",
       "        (2): Conv2d(128, 64, kernel_size=(1, 1), stride=(1, 1), bias=False)\n",
       "        (3): BatchNorm2d(64, eps=1e-05, momentum=0.1, affine=True, track_running_stats=True)\n",
       "      )\n",
       "    )\n",
       "    (8): InvertedResidual(\n",
       "      (conv): Sequential(\n",
       "        (0): ConvBNActivation(\n",
       "          (0): Conv2d(64, 128, kernel_size=(1, 1), stride=(1, 1), bias=False)\n",
       "          (1): BatchNorm2d(128, eps=1e-05, momentum=0.1, affine=True, track_running_stats=True)\n",
       "          (2): ReLU6(inplace=True)\n",
       "        )\n",
       "        (1): ConvBNActivation(\n",
       "          (0): Conv2d(128, 128, kernel_size=(3, 3), stride=(1, 1), padding=(1, 1), groups=128, bias=False)\n",
       "          (1): BatchNorm2d(128, eps=1e-05, momentum=0.1, affine=True, track_running_stats=True)\n",
       "          (2): ReLU6(inplace=True)\n",
       "        )\n",
       "        (2): Conv2d(128, 64, kernel_size=(1, 1), stride=(1, 1), bias=False)\n",
       "        (3): BatchNorm2d(64, eps=1e-05, momentum=0.1, affine=True, track_running_stats=True)\n",
       "      )\n",
       "    )\n",
       "    (9): InvertedResidual(\n",
       "      (conv): Sequential(\n",
       "        (0): ConvBNActivation(\n",
       "          (0): Conv2d(64, 128, kernel_size=(1, 1), stride=(1, 1), bias=False)\n",
       "          (1): BatchNorm2d(128, eps=1e-05, momentum=0.1, affine=True, track_running_stats=True)\n",
       "          (2): ReLU6(inplace=True)\n",
       "        )\n",
       "        (1): ConvBNActivation(\n",
       "          (0): Conv2d(128, 128, kernel_size=(3, 3), stride=(1, 1), padding=(1, 1), groups=128, bias=False)\n",
       "          (1): BatchNorm2d(128, eps=1e-05, momentum=0.1, affine=True, track_running_stats=True)\n",
       "          (2): ReLU6(inplace=True)\n",
       "        )\n",
       "        (2): Conv2d(128, 64, kernel_size=(1, 1), stride=(1, 1), bias=False)\n",
       "        (3): BatchNorm2d(64, eps=1e-05, momentum=0.1, affine=True, track_running_stats=True)\n",
       "      )\n",
       "    )\n",
       "    (10): InvertedResidual(\n",
       "      (conv): Sequential(\n",
       "        (0): ConvBNActivation(\n",
       "          (0): Conv2d(64, 128, kernel_size=(1, 1), stride=(1, 1), bias=False)\n",
       "          (1): BatchNorm2d(128, eps=1e-05, momentum=0.1, affine=True, track_running_stats=True)\n",
       "          (2): ReLU6(inplace=True)\n",
       "        )\n",
       "        (1): ConvBNActivation(\n",
       "          (0): Conv2d(128, 128, kernel_size=(3, 3), stride=(2, 2), padding=(1, 1), groups=128, bias=False)\n",
       "          (1): BatchNorm2d(128, eps=1e-05, momentum=0.1, affine=True, track_running_stats=True)\n",
       "          (2): ReLU6(inplace=True)\n",
       "        )\n",
       "        (2): Conv2d(128, 128, kernel_size=(1, 1), stride=(1, 1), bias=False)\n",
       "        (3): BatchNorm2d(128, eps=1e-05, momentum=0.1, affine=True, track_running_stats=True)\n",
       "      )\n",
       "    )\n",
       "    (11): InvertedResidual(\n",
       "      (conv): Sequential(\n",
       "        (0): ConvBNActivation(\n",
       "          (0): Conv2d(128, 256, kernel_size=(1, 1), stride=(1, 1), bias=False)\n",
       "          (1): BatchNorm2d(256, eps=1e-05, momentum=0.1, affine=True, track_running_stats=True)\n",
       "          (2): ReLU6(inplace=True)\n",
       "        )\n",
       "        (1): ConvBNActivation(\n",
       "          (0): Conv2d(256, 256, kernel_size=(3, 3), stride=(1, 1), padding=(1, 1), groups=256, bias=False)\n",
       "          (1): BatchNorm2d(256, eps=1e-05, momentum=0.1, affine=True, track_running_stats=True)\n",
       "          (2): ReLU6(inplace=True)\n",
       "        )\n",
       "        (2): Conv2d(256, 128, kernel_size=(1, 1), stride=(1, 1), bias=False)\n",
       "        (3): BatchNorm2d(128, eps=1e-05, momentum=0.1, affine=True, track_running_stats=True)\n",
       "      )\n",
       "    )\n",
       "    (12): InvertedResidual(\n",
       "      (conv): Sequential(\n",
       "        (0): ConvBNActivation(\n",
       "          (0): Conv2d(128, 256, kernel_size=(1, 1), stride=(1, 1), bias=False)\n",
       "          (1): BatchNorm2d(256, eps=1e-05, momentum=0.1, affine=True, track_running_stats=True)\n",
       "          (2): ReLU6(inplace=True)\n",
       "        )\n",
       "        (1): ConvBNActivation(\n",
       "          (0): Conv2d(256, 256, kernel_size=(3, 3), stride=(1, 1), padding=(1, 1), groups=256, bias=False)\n",
       "          (1): BatchNorm2d(256, eps=1e-05, momentum=0.1, affine=True, track_running_stats=True)\n",
       "          (2): ReLU6(inplace=True)\n",
       "        )\n",
       "        (2): Conv2d(256, 128, kernel_size=(1, 1), stride=(1, 1), bias=False)\n",
       "        (3): BatchNorm2d(128, eps=1e-05, momentum=0.1, affine=True, track_running_stats=True)\n",
       "      )\n",
       "    )\n",
       "    (13): InvertedResidual(\n",
       "      (conv): Sequential(\n",
       "        (0): ConvBNActivation(\n",
       "          (0): Conv2d(128, 256, kernel_size=(1, 1), stride=(1, 1), bias=False)\n",
       "          (1): BatchNorm2d(256, eps=1e-05, momentum=0.1, affine=True, track_running_stats=True)\n",
       "          (2): ReLU6(inplace=True)\n",
       "        )\n",
       "        (1): ConvBNActivation(\n",
       "          (0): Conv2d(256, 256, kernel_size=(3, 3), stride=(1, 1), padding=(1, 1), groups=256, bias=False)\n",
       "          (1): BatchNorm2d(256, eps=1e-05, momentum=0.1, affine=True, track_running_stats=True)\n",
       "          (2): ReLU6(inplace=True)\n",
       "        )\n",
       "        (2): Conv2d(256, 128, kernel_size=(1, 1), stride=(1, 1), bias=False)\n",
       "        (3): BatchNorm2d(128, eps=1e-05, momentum=0.1, affine=True, track_running_stats=True)\n",
       "      )\n",
       "    )\n",
       "    (14): InvertedResidual(\n",
       "      (conv): Sequential(\n",
       "        (0): ConvBNActivation(\n",
       "          (0): Conv2d(128, 256, kernel_size=(1, 1), stride=(1, 1), bias=False)\n",
       "          (1): BatchNorm2d(256, eps=1e-05, momentum=0.1, affine=True, track_running_stats=True)\n",
       "          (2): ReLU6(inplace=True)\n",
       "        )\n",
       "        (1): ConvBNActivation(\n",
       "          (0): Conv2d(256, 256, kernel_size=(3, 3), stride=(1, 1), padding=(1, 1), groups=256, bias=False)\n",
       "          (1): BatchNorm2d(256, eps=1e-05, momentum=0.1, affine=True, track_running_stats=True)\n",
       "          (2): ReLU6(inplace=True)\n",
       "        )\n",
       "        (2): Conv2d(256, 128, kernel_size=(1, 1), stride=(1, 1), bias=False)\n",
       "        (3): BatchNorm2d(128, eps=1e-05, momentum=0.1, affine=True, track_running_stats=True)\n",
       "      )\n",
       "    )\n",
       "    (15): InvertedResidual(\n",
       "      (conv): Sequential(\n",
       "        (0): ConvBNActivation(\n",
       "          (0): Conv2d(128, 256, kernel_size=(1, 1), stride=(1, 1), bias=False)\n",
       "          (1): BatchNorm2d(256, eps=1e-05, momentum=0.1, affine=True, track_running_stats=True)\n",
       "          (2): ReLU6(inplace=True)\n",
       "        )\n",
       "        (1): ConvBNActivation(\n",
       "          (0): Conv2d(256, 256, kernel_size=(3, 3), stride=(1, 1), padding=(1, 1), groups=256, bias=False)\n",
       "          (1): BatchNorm2d(256, eps=1e-05, momentum=0.1, affine=True, track_running_stats=True)\n",
       "          (2): ReLU6(inplace=True)\n",
       "        )\n",
       "        (2): Conv2d(256, 128, kernel_size=(1, 1), stride=(1, 1), bias=False)\n",
       "        (3): BatchNorm2d(128, eps=1e-05, momentum=0.1, affine=True, track_running_stats=True)\n",
       "      )\n",
       "    )\n",
       "    (16): ConvBNActivation(\n",
       "      (0): Conv2d(128, 128, kernel_size=(1, 1), stride=(1, 1), bias=False)\n",
       "      (1): BatchNorm2d(128, eps=1e-05, momentum=0.1, affine=True, track_running_stats=True)\n",
       "      (2): ReLU6(inplace=True)\n",
       "    )\n",
       "  )\n",
       "  (pooling): Sequential(\n",
       "    (0): ConvSelfAttention(\n",
       "      (query): Conv1d(128, 16, kernel_size=(1,), stride=(1,), bias=False)\n",
       "      (key): Conv1d(128, 16, kernel_size=(1,), stride=(1,), bias=False)\n",
       "      (value): Conv1d(128, 128, kernel_size=(1,), stride=(1,), bias=False)\n",
       "    )\n",
       "    (1): AdaptiveAvgPool2d(output_size=(1, 1))\n",
       "    (2): Reshape()\n",
       "  )\n",
       "  (classifier): Linear(in_features=128, out_features=4, bias=True)\n",
       ")"
      ]
     },
     "execution_count": 8,
     "metadata": {},
     "output_type": "execute_result"
    }
   ],
   "source": [
    "config_path = os.path.join(dir_path, \"train.config\")\n",
    "assert os.path.exists(config_path), f\"No train.config in {dir_path}\"\n",
    "\n",
    "model_path = os.path.join(dir_path, model_name)\n",
    "# check the model\n",
    "if not os.path.exists(model_path):\n",
    "    print(f\"There is no saved model {model_path}. Nothing to inference\")\n",
    "#     return None\n",
    "\n",
    "# load the model\n",
    "cfg = lazycon.load(config_path)\n",
    "model = cfg.model\n",
    "    \n",
    "model.to(device)\n",
    "model.load_state_dict(torch.load(model_path, map_location=torch.device('cpu')))\n",
    "model = model.double()\n",
    "model.eval()"
   ]
  },
  {
   "cell_type": "code",
   "execution_count": 9,
   "id": "a90da87c",
   "metadata": {},
   "outputs": [
    {
     "data": {
      "text/plain": [
       "   0 Переназначение звуковых устр. - Input, MME (2 in, 0 out)\n",
       ">  1 Микрофон (Realtek High Definiti, MME (2 in, 0 out)\n",
       "   2 Переназначение звуковых устр. - Output, MME (0 in, 2 out)\n",
       "<  3 Динамики (Realtek High Definiti, MME (0 in, 2 out)\n",
       "   4 Realtek Digital Output (Realtek, MME (0 in, 2 out)\n",
       "   5 Realtek Digital Output(Optical), MME (0 in, 2 out)\n",
       "   6 AMD  DP  Output (AMD High Defin, MME (0 in, 2 out)\n",
       "   7 Первичный драйвер записи звука, Windows DirectSound (2 in, 0 out)\n",
       "   8 Микрофон (Realtek High Definition Audio), Windows DirectSound (2 in, 0 out)\n",
       "   9 Первичный звуковой драйвер, Windows DirectSound (0 in, 2 out)\n",
       "  10 Динамики (Realtek High Definition Audio), Windows DirectSound (0 in, 2 out)\n",
       "  11 Realtek Digital Output (Realtek High Definition Audio), Windows DirectSound (0 in, 2 out)\n",
       "  12 Realtek Digital Output(Optical) (Realtek High Definition Audio), Windows DirectSound (0 in, 2 out)\n",
       "  13 AMD  DP  Output (AMD High Definition Audio Device), Windows DirectSound (0 in, 2 out)\n",
       "  14 Realtek Digital Output (Realtek High Definition Audio), Windows WASAPI (0 in, 2 out)\n",
       "  15 Динамики (Realtek High Definition Audio), Windows WASAPI (0 in, 2 out)\n",
       "  16 Realtek Digital Output(Optical) (Realtek High Definition Audio), Windows WASAPI (0 in, 2 out)\n",
       "  17 AMD  DP  Output (AMD High Definition Audio Device), Windows WASAPI (0 in, 2 out)\n",
       "  18 Микрофон (Realtek High Definition Audio), Windows WASAPI (2 in, 0 out)\n",
       "  19 Output (AMD HD Audio DP out #0), Windows WDM-KS (0 in, 2 out)\n",
       "  20 Speakers (Realtek HD Audio output), Windows WDM-KS (0 in, 8 out)\n",
       "  21 Лин. вход (Realtek HD Audio Line input), Windows WDM-KS (2 in, 0 out)\n",
       "  22 Микрофон (Realtek HD Audio Mic input), Windows WDM-KS (2 in, 0 out)\n",
       "  23 SPDIF Out (Realtek HDA SPDIF Optical Out), Windows WDM-KS (0 in, 2 out)\n",
       "  24 SPDIF Out (Realtek HDA SPDIF Out), Windows WDM-KS (0 in, 2 out)\n",
       "  25 Стерео микшер (Realtek HD Audio Stereo input), Windows WDM-KS (2 in, 0 out)"
      ]
     },
     "execution_count": 9,
     "metadata": {},
     "output_type": "execute_result"
    }
   ],
   "source": [
    "sd.query_devices()"
   ]
  },
  {
   "cell_type": "code",
   "execution_count": 10,
   "id": "4a318ebf",
   "metadata": {},
   "outputs": [],
   "source": [
    "# # запись с микрофона\n",
    "# fs=16000 \n",
    "# duration = 5 # seconds \n",
    "# myrecording = sd.rec(duration * fs, samplerate=fs, channels=1, dtype='float64') \n",
    "# print (\"Recording Audio\") \n",
    "# sd.wait() \n",
    "# print (\"Audio recording complete , Play Audio\") \n",
    "# sd.play(myrecording, fs) "
   ]
  },
  {
   "cell_type": "code",
   "execution_count": 11,
   "id": "4e352445",
   "metadata": {},
   "outputs": [],
   "source": [
    "# feat = create_features(np.transpose(myrecording)[0])"
   ]
  },
  {
   "cell_type": "code",
   "execution_count": 12,
   "id": "e936bd3b",
   "metadata": {},
   "outputs": [],
   "source": [
    "wavs_path = r'D:\\python-datasets\\dusha\\podcast_train\\wavs'\n",
    "feat = create_features_for_audio(os.path.join(wavs_path, \"009bff3c48271cd56f085ad4217cbcb2.wav\"))"
   ]
  },
  {
   "cell_type": "code",
   "execution_count": 13,
   "id": "397e64db",
   "metadata": {},
   "outputs": [],
   "source": [
    "feat = feat.astype(np.float64)"
   ]
  },
  {
   "cell_type": "code",
   "execution_count": 14,
   "id": "bcd6c49c",
   "metadata": {},
   "outputs": [
    {
     "name": "stdout",
     "output_type": "stream",
     "text": [
      "Calculating predicts\n"
     ]
    }
   ],
   "source": [
    "print(f\"Calculating predicts\")\n",
    "inputs = torch.from_numpy(feat).to(device).unsqueeze(0).unsqueeze(0)\n",
    "\n",
    "with torch.no_grad():\n",
    "    probs = model(inputs)"
   ]
  },
  {
   "cell_type": "code",
   "execution_count": 15,
   "id": "98cd7964",
   "metadata": {},
   "outputs": [
    {
     "data": {
      "text/plain": [
       "'neutral'"
      ]
     },
     "execution_count": 15,
     "metadata": {},
     "output_type": "execute_result"
    }
   ],
   "source": [
    "pred_class = np.argmax(probs.cpu().numpy(), axis=1)\n",
    "index2name(pred_class[0])"
   ]
  },
  {
   "cell_type": "code",
   "execution_count": 16,
   "id": "723ce905",
   "metadata": {},
   "outputs": [
    {
     "data": {
      "text/plain": [
       "tensor([[-6.5000, -1.0716,  1.3197, -1.9417]], dtype=torch.float64)"
      ]
     },
     "execution_count": 16,
     "metadata": {},
     "output_type": "execute_result"
    }
   ],
   "source": [
    "probs"
   ]
  },
  {
   "cell_type": "code",
   "execution_count": 17,
   "id": "bf487a75",
   "metadata": {},
   "outputs": [
    {
     "name": "stdout",
     "output_type": "stream",
     "text": [
      "Всего строк: 79088\n"
     ]
    }
   ],
   "source": [
    "DATASET_PATH = r'D:\\python-datasets\\dusha'\n",
    "DATASETS = ['podcast_train', 'podcast_test', 'crowd_test']\n",
    "\n",
    "crowd_test = os.path.join(DATASET_PATH, DATASETS[2])\n",
    "crowd_info = os.path.join(crowd_test,'raw_crowd_test.tsv')\n",
    "\n",
    "df = pd.read_csv(crowd_info, sep='\\t')\n",
    "print('Всего строк:', len(df))"
   ]
  },
  {
   "cell_type": "code",
   "execution_count": 18,
   "id": "fbdeb7c9",
   "metadata": {},
   "outputs": [
    {
     "name": "stdout",
     "output_type": "stream",
     "text": [
      "Без дубликатов: 17217\n"
     ]
    }
   ],
   "source": [
    "# check_column = 'annotator_emo'\n",
    "check_column = 'speaker_emo'\n",
    "\n",
    "if check_column != 'speaker_emo':\n",
    "    df[\"speaker_emo\"].fillna(df[\"annotator_emo\"], inplace=True)\n",
    "else:\n",
    "    df.dropna(subset=['speaker_emo'], inplace=True)\n",
    "\n",
    "df.drop_duplicates(subset=['audio_path', check_column], inplace=True)\n",
    "print('Без дубликатов:', len(df))\n",
    "tqdm.pandas()\n",
    "# # Проверка и фильтрация датафрейма\n",
    "# df = df[df['audio_path'].progress_apply(lambda x: os.path.isfile(os.path.join(crowd_test, x)))]\n",
    "# print('Итого осталось файлов:', len(df))"
   ]
  },
  {
   "cell_type": "code",
   "execution_count": 19,
   "id": "e3106d49",
   "metadata": {},
   "outputs": [
    {
     "data": {
      "application/vnd.jupyter.widget-view+json": {
       "model_id": "436ddd7bfe9e4ca9b3061272c3c82e01",
       "version_major": 2,
       "version_minor": 0
      },
      "text/plain": [
       "  0%|          | 0/17217 [00:00<?, ?it/s]"
      ]
     },
     "metadata": {},
     "output_type": "display_data"
    },
    {
     "name": "stdout",
     "output_type": "stream",
     "text": [
      "Wall time: 1h 6min 28s\n"
     ]
    }
   ],
   "source": [
    "%%time\n",
    "tmp = df.iloc[:]\n",
    "preds = []\n",
    "predicted_probs = []\n",
    "for index, row in tqdm(tmp.iterrows(), total=len(tmp)):\n",
    "    file_path = os.path.join(crowd_test, row['audio_path'])\n",
    "    feat = create_features_for_audio(file_path)\n",
    "    feat = feat.astype(np.float64)\n",
    "    inputs = torch.from_numpy(feat).to(device).unsqueeze(0).unsqueeze(0)\n",
    "    with torch.no_grad():\n",
    "        probs = model(inputs)\n",
    "    pred_class = np.argmax(probs.cpu().numpy(), axis=1)\n",
    "    pred = index2name(pred_class[0])\n",
    "    preds.append(pred)\n",
    "#     print('pred:', pred, 'true:', row['annotator_emo'])\n",
    "\n",
    "    # Преобразование меток классов в вероятности (softmax)\n",
    "    softmax = torch.nn.Softmax(dim=1)\n",
    "    probabilities = softmax(probs)\n",
    "    predicted_probs.append(probabilities.detach().cpu().numpy())\n",
    "    \n",
    "tmp['pred'] = preds\n",
    "tmp['probs'] = predicted_probs\n",
    "\n",
    "tmp.to_csv('preds.csv', index=False)"
   ]
  },
  {
   "cell_type": "code",
   "execution_count": 20,
   "id": "85b7e11e",
   "metadata": {},
   "outputs": [
    {
     "data": {
      "text/html": [
       "<div>\n",
       "<style scoped>\n",
       "    .dataframe tbody tr th:only-of-type {\n",
       "        vertical-align: middle;\n",
       "    }\n",
       "\n",
       "    .dataframe tbody tr th {\n",
       "        vertical-align: top;\n",
       "    }\n",
       "\n",
       "    .dataframe thead th {\n",
       "        text-align: right;\n",
       "    }\n",
       "</style>\n",
       "<table border=\"1\" class=\"dataframe\">\n",
       "  <thead>\n",
       "    <tr style=\"text-align: right;\">\n",
       "      <th></th>\n",
       "      <th>hash_id</th>\n",
       "      <th>audio_path</th>\n",
       "      <th>duration</th>\n",
       "      <th>annotator_emo</th>\n",
       "      <th>golden_emo</th>\n",
       "      <th>annotator_id</th>\n",
       "      <th>speaker_text</th>\n",
       "      <th>speaker_emo</th>\n",
       "      <th>source_id</th>\n",
       "      <th>pred</th>\n",
       "      <th>probs</th>\n",
       "    </tr>\n",
       "  </thead>\n",
       "  <tbody>\n",
       "    <tr>\n",
       "      <th>0</th>\n",
       "      <td>9e9961c53ca6eeb440b217e539fbf46c</td>\n",
       "      <td>wavs/9e9961c53ca6eeb440b217e539fbf46c.wav</td>\n",
       "      <td>5.820000</td>\n",
       "      <td>neutral</td>\n",
       "      <td>NaN</td>\n",
       "      <td>858305a5450b7bd1288ba0053b1cd1c1</td>\n",
       "      <td>я слушаю</td>\n",
       "      <td>neutral</td>\n",
       "      <td>4282ddc30d71ef420e202e0c60391e9f</td>\n",
       "      <td>sad</td>\n",
       "      <td>[[0.0007966209990913893, 0.8409130616683064, 0...</td>\n",
       "    </tr>\n",
       "    <tr>\n",
       "      <th>1</th>\n",
       "      <td>0166f65a30354db8282682b1a280e64c</td>\n",
       "      <td>wavs/0166f65a30354db8282682b1a280e64c.wav</td>\n",
       "      <td>3.700000</td>\n",
       "      <td>sad</td>\n",
       "      <td>NaN</td>\n",
       "      <td>858305a5450b7bd1288ba0053b1cd1c1</td>\n",
       "      <td>каким стал сбер</td>\n",
       "      <td>neutral</td>\n",
       "      <td>d70dc98ed56e9362eaefefb7b2827c8f</td>\n",
       "      <td>neutral</td>\n",
       "      <td>[[0.002126912173107892, 0.2119796569617634, 0....</td>\n",
       "    </tr>\n",
       "    <tr>\n",
       "      <th>2</th>\n",
       "      <td>d49a6b560155831725a7bdc7d0a96099</td>\n",
       "      <td>wavs/d49a6b560155831725a7bdc7d0a96099.wav</td>\n",
       "      <td>4.380000</td>\n",
       "      <td>neutral</td>\n",
       "      <td>NaN</td>\n",
       "      <td>858305a5450b7bd1288ba0053b1cd1c1</td>\n",
       "      <td>где родился шерлок холмс</td>\n",
       "      <td>neutral</td>\n",
       "      <td>0ee35d2abecf4272ecc8e1539b0839d8</td>\n",
       "      <td>sad</td>\n",
       "      <td>[[0.001504161939584158, 0.8243252080716712, 0....</td>\n",
       "    </tr>\n",
       "    <tr>\n",
       "      <th>3</th>\n",
       "      <td>c6852b0925797612d7b6724da8cbe7b4</td>\n",
       "      <td>wavs/c6852b0925797612d7b6724da8cbe7b4.wav</td>\n",
       "      <td>8.580000</td>\n",
       "      <td>neutral</td>\n",
       "      <td>NaN</td>\n",
       "      <td>858305a5450b7bd1288ba0053b1cd1c1</td>\n",
       "      <td>открой в браузере ennio morricone</td>\n",
       "      <td>neutral</td>\n",
       "      <td>0855e363c1787df1592f58f7a27ebe13</td>\n",
       "      <td>neutral</td>\n",
       "      <td>[[0.02129252478404198, 0.2611207498575717, 0.5...</td>\n",
       "    </tr>\n",
       "    <tr>\n",
       "      <th>12</th>\n",
       "      <td>64a7aa17132c3e4b7be1aaed5fc88090</td>\n",
       "      <td>wavs/64a7aa17132c3e4b7be1aaed5fc88090.wav</td>\n",
       "      <td>5.060000</td>\n",
       "      <td>positive</td>\n",
       "      <td>NaN</td>\n",
       "      <td>32bd471407fe168dacd5f8252f9949b7</td>\n",
       "      <td>а там и ева проснулись с утра</td>\n",
       "      <td>positive</td>\n",
       "      <td>82f97728c4767b283d249afc96d23caf</td>\n",
       "      <td>neutral</td>\n",
       "      <td>[[0.13181136546781647, 0.12499334244340565, 0....</td>\n",
       "    </tr>\n",
       "    <tr>\n",
       "      <th>13</th>\n",
       "      <td>33152583dcbf1fe40d142954a2a7ca23</td>\n",
       "      <td>wavs/33152583dcbf1fe40d142954a2a7ca23.wav</td>\n",
       "      <td>7.600000</td>\n",
       "      <td>neutral</td>\n",
       "      <td>NaN</td>\n",
       "      <td>32bd471407fe168dacd5f8252f9949b7</td>\n",
       "      <td>я хочу чтобы ты меня поздравила с днем моим ро...</td>\n",
       "      <td>positive</td>\n",
       "      <td>7d4e40268690a9f210bb0816bff36317</td>\n",
       "      <td>sad</td>\n",
       "      <td>[[0.002924788076908251, 0.7515794522042758, 0....</td>\n",
       "    </tr>\n",
       "    <tr>\n",
       "      <th>18</th>\n",
       "      <td>0a1588516e461a6392eec8ae52cfddc6</td>\n",
       "      <td>wavs/0a1588516e461a6392eec8ae52cfddc6.wav</td>\n",
       "      <td>5.247312</td>\n",
       "      <td>sad</td>\n",
       "      <td>NaN</td>\n",
       "      <td>858305a5450b7bd1288ba0053b1cd1c1</td>\n",
       "      <td>позови мне кого нибудь другого лезть</td>\n",
       "      <td>angry</td>\n",
       "      <td>aa38ee6e523e1d206e0d4decfacbe661</td>\n",
       "      <td>sad</td>\n",
       "      <td>[[0.006748335265136725, 0.5567768192485748, 0....</td>\n",
       "    </tr>\n",
       "  </tbody>\n",
       "</table>\n",
       "</div>"
      ],
      "text/plain": [
       "                             hash_id  \\\n",
       "0   9e9961c53ca6eeb440b217e539fbf46c   \n",
       "1   0166f65a30354db8282682b1a280e64c   \n",
       "2   d49a6b560155831725a7bdc7d0a96099   \n",
       "3   c6852b0925797612d7b6724da8cbe7b4   \n",
       "12  64a7aa17132c3e4b7be1aaed5fc88090   \n",
       "13  33152583dcbf1fe40d142954a2a7ca23   \n",
       "18  0a1588516e461a6392eec8ae52cfddc6   \n",
       "\n",
       "                                   audio_path  duration annotator_emo  \\\n",
       "0   wavs/9e9961c53ca6eeb440b217e539fbf46c.wav  5.820000       neutral   \n",
       "1   wavs/0166f65a30354db8282682b1a280e64c.wav  3.700000           sad   \n",
       "2   wavs/d49a6b560155831725a7bdc7d0a96099.wav  4.380000       neutral   \n",
       "3   wavs/c6852b0925797612d7b6724da8cbe7b4.wav  8.580000       neutral   \n",
       "12  wavs/64a7aa17132c3e4b7be1aaed5fc88090.wav  5.060000      positive   \n",
       "13  wavs/33152583dcbf1fe40d142954a2a7ca23.wav  7.600000       neutral   \n",
       "18  wavs/0a1588516e461a6392eec8ae52cfddc6.wav  5.247312           sad   \n",
       "\n",
       "    golden_emo                      annotator_id  \\\n",
       "0          NaN  858305a5450b7bd1288ba0053b1cd1c1   \n",
       "1          NaN  858305a5450b7bd1288ba0053b1cd1c1   \n",
       "2          NaN  858305a5450b7bd1288ba0053b1cd1c1   \n",
       "3          NaN  858305a5450b7bd1288ba0053b1cd1c1   \n",
       "12         NaN  32bd471407fe168dacd5f8252f9949b7   \n",
       "13         NaN  32bd471407fe168dacd5f8252f9949b7   \n",
       "18         NaN  858305a5450b7bd1288ba0053b1cd1c1   \n",
       "\n",
       "                                         speaker_text speaker_emo  \\\n",
       "0                                            я слушаю     neutral   \n",
       "1                                     каким стал сбер     neutral   \n",
       "2                            где родился шерлок холмс     neutral   \n",
       "3                   открой в браузере ennio morricone     neutral   \n",
       "12                      а там и ева проснулись с утра    positive   \n",
       "13  я хочу чтобы ты меня поздравила с днем моим ро...    positive   \n",
       "18               позови мне кого нибудь другого лезть       angry   \n",
       "\n",
       "                           source_id     pred  \\\n",
       "0   4282ddc30d71ef420e202e0c60391e9f      sad   \n",
       "1   d70dc98ed56e9362eaefefb7b2827c8f  neutral   \n",
       "2   0ee35d2abecf4272ecc8e1539b0839d8      sad   \n",
       "3   0855e363c1787df1592f58f7a27ebe13  neutral   \n",
       "12  82f97728c4767b283d249afc96d23caf  neutral   \n",
       "13  7d4e40268690a9f210bb0816bff36317      sad   \n",
       "18  aa38ee6e523e1d206e0d4decfacbe661      sad   \n",
       "\n",
       "                                                probs  \n",
       "0   [[0.0007966209990913893, 0.8409130616683064, 0...  \n",
       "1   [[0.002126912173107892, 0.2119796569617634, 0....  \n",
       "2   [[0.001504161939584158, 0.8243252080716712, 0....  \n",
       "3   [[0.02129252478404198, 0.2611207498575717, 0.5...  \n",
       "12  [[0.13181136546781647, 0.12499334244340565, 0....  \n",
       "13  [[0.002924788076908251, 0.7515794522042758, 0....  \n",
       "18  [[0.006748335265136725, 0.5567768192485748, 0....  "
      ]
     },
     "execution_count": 20,
     "metadata": {},
     "output_type": "execute_result"
    }
   ],
   "source": [
    "tmp.head(7)"
   ]
  },
  {
   "cell_type": "code",
   "execution_count": 37,
   "id": "097596d0",
   "metadata": {},
   "outputs": [
    {
     "data": {
      "text/plain": [
       "Index(['hash_id', 'audio_path', 'duration', 'annotator_emo', 'golden_emo',\n",
       "       'annotator_id', 'speaker_text', 'speaker_emo', 'source_id', 'pred',\n",
       "       'probs'],\n",
       "      dtype='object')"
      ]
     },
     "execution_count": 37,
     "metadata": {},
     "output_type": "execute_result"
    }
   ],
   "source": [
    "prs = tmp\n",
    "tmp.columns"
   ]
  },
  {
   "cell_type": "code",
   "execution_count": 47,
   "id": "75479f61",
   "metadata": {},
   "outputs": [
    {
     "name": "stdout",
     "output_type": "stream",
     "text": [
      "f1_score (4 emo) по колонке annotator_emo = 0.5524 roc_auc_score =  0.8233\n",
      "f1_score (4 emo) по колонке speaker_emo   = 0.4493 roc_auc_score =  0.7638\n",
      "f1_score (3 emo) по колонке annotator_emo = 0.8006 roc_auc_score =  0.7277\n",
      "f1_score (3 emo) по колонке speaker_emo   = 0.7032 roc_auc_score =  0.7116\n"
     ]
    }
   ],
   "source": [
    "from sklearn.metrics import f1_score as F1, classification_report, roc_auc_score\n",
    "from sklearn.preprocessing import LabelBinarizer\n",
    "\n",
    "tst = prs.copy()\n",
    "\n",
    "remap = {'other': 'neutral'}\n",
    "\n",
    "for col in ('annotator_emo', 'speaker_emo', 'pred'):\n",
    "    prs[col] = prs[col].map(lambda x: remap.get(x, x))\n",
    "\n",
    "remap = {'sad': 'neutral', 'other': 'neutral'}\n",
    "\n",
    "for col in ('annotator_emo', 'speaker_emo', 'pred'):\n",
    "    tst[col] = tst[col].map(lambda x: remap.get(x, x))\n",
    "\n",
    "emos = {'4 emo': prs, '3 emo': tst}\n",
    "\n",
    "for emo, df in emos.items():\n",
    "    for name_col in ('annotator_emo', 'speaker_emo'):\n",
    "        # Пример истинных меток и предсказанных вероятностей для многоклассовой классификации\n",
    "        # Истинные метки классов\n",
    "        y_true = df[name_col].map(name2index)  \n",
    "        # Предсказанные вероятности для каждого класса\n",
    "        y_scores = np.concatenate(df['probs'].values)  \n",
    "        # Преобразуем истинные метки классов в бинарный формат\n",
    "        lb = LabelBinarizer()\n",
    "        y_true_bin = lb.fit_transform(y_true)\n",
    "        n_emos = len(lb.classes_)\n",
    "        roc_auc = roc_auc_score(y_true_bin, y_scores[:, :n_emos], average=\"micro\") \n",
    "        \n",
    "        print(f'f1_score ({emo}) по колонке {name_col:<13} =',\n",
    "              F1(df[name_col], df['pred'], average='weighted', zero_division=0).round(4),\n",
    "             'roc_auc_score = ', roc_auc.round(4))"
   ]
  },
  {
   "cell_type": "code",
   "execution_count": 39,
   "id": "6df1c9fa",
   "metadata": {},
   "outputs": [
    {
     "name": "stdout",
     "output_type": "stream",
     "text": [
      "4 emo по колонке annotator_emo:\n",
      "              precision    recall  f1-score   support\n",
      "\n",
      "       angry       0.82      0.22      0.35      1911\n",
      "     neutral       0.72      0.55      0.62     10495\n",
      "    positive       0.57      0.41      0.48      1730\n",
      "         sad       0.34      0.81      0.48      3081\n",
      "\n",
      "    accuracy                           0.55     17217\n",
      "   macro avg       0.61      0.50      0.48     17217\n",
      "weighted avg       0.65      0.55      0.55     17217\n",
      "\n",
      "4 emo по колонке speaker_emo  :\n",
      "              precision    recall  f1-score   support\n",
      "\n",
      "       angry       0.86      0.15      0.26      2853\n",
      "     neutral       0.48      0.52      0.50      7462\n",
      "    positive       0.62      0.34      0.44      2279\n",
      "         sad       0.40      0.63      0.49      4623\n",
      "\n",
      "    accuracy                           0.47     17217\n",
      "   macro avg       0.59      0.41      0.42     17217\n",
      "weighted avg       0.54      0.47      0.45     17217\n",
      "\n",
      "3 emo по колонке annotator_emo:\n",
      "              precision    recall  f1-score   support\n",
      "\n",
      "       angry       0.82      0.22      0.35      1911\n",
      "     neutral       0.85      0.97      0.91     13576\n",
      "    positive       0.57      0.41      0.48      1730\n",
      "\n",
      "    accuracy                           0.83     17217\n",
      "   macro avg       0.75      0.53      0.58     17217\n",
      "weighted avg       0.82      0.83      0.80     17217\n",
      "\n",
      "3 emo по колонке speaker_emo  :\n",
      "              precision    recall  f1-score   support\n",
      "\n",
      "       angry       0.86      0.15      0.26      2853\n",
      "     neutral       0.76      0.98      0.86     12085\n",
      "    positive       0.62      0.34      0.44      2279\n",
      "\n",
      "    accuracy                           0.76     17217\n",
      "   macro avg       0.75      0.49      0.52     17217\n",
      "weighted avg       0.76      0.76      0.70     17217\n",
      "\n"
     ]
    }
   ],
   "source": [
    "for emo, df in emos.items():\n",
    "    for name_col in ('annotator_emo', 'speaker_emo'):\n",
    "        print(f'{emo} по колонке {name_col:<13}:')\n",
    "        print(classification_report(df[name_col], df['pred'], zero_division=0))"
   ]
  },
  {
   "cell_type": "code",
   "execution_count": 40,
   "id": "4e30e234",
   "metadata": {
    "scrolled": true
   },
   "outputs": [
    {
     "data": {
      "text/plain": [
       "neutral     7462\n",
       "sad         4623\n",
       "angry       2853\n",
       "positive    2279\n",
       "Name: speaker_emo, dtype: int64"
      ]
     },
     "execution_count": 40,
     "metadata": {},
     "output_type": "execute_result"
    }
   ],
   "source": [
    "tmp.speaker_emo.value_counts()"
   ]
  },
  {
   "cell_type": "code",
   "execution_count": 41,
   "id": "a7301916",
   "metadata": {},
   "outputs": [
    {
     "data": {
      "text/plain": [
       "array(['neutral', 'positive', 'angry', 'sad'], dtype=object)"
      ]
     },
     "execution_count": 41,
     "metadata": {},
     "output_type": "execute_result"
    }
   ],
   "source": [
    "tmp.speaker_emo.unique()"
   ]
  },
  {
   "cell_type": "code",
   "execution_count": 42,
   "id": "4e2539f6",
   "metadata": {},
   "outputs": [
    {
     "data": {
      "text/plain": [
       "neutral     10495\n",
       "sad          3081\n",
       "angry        1911\n",
       "positive     1730\n",
       "Name: annotator_emo, dtype: int64"
      ]
     },
     "execution_count": 42,
     "metadata": {},
     "output_type": "execute_result"
    }
   ],
   "source": [
    "tmp.annotator_emo.value_counts()"
   ]
  },
  {
   "cell_type": "code",
   "execution_count": 43,
   "id": "0b2c4b85",
   "metadata": {},
   "outputs": [
    {
     "data": {
      "text/plain": [
       "array(['neutral', 'sad', 'positive', 'angry'], dtype=object)"
      ]
     },
     "execution_count": 43,
     "metadata": {},
     "output_type": "execute_result"
    }
   ],
   "source": [
    "tmp.annotator_emo.unique()"
   ]
  },
  {
   "cell_type": "code",
   "execution_count": null,
   "id": "d09bc82a",
   "metadata": {},
   "outputs": [],
   "source": []
  }
 ],
 "metadata": {
  "kernelspec": {
   "display_name": "Python 3",
   "language": "python",
   "name": "python3"
  },
  "language_info": {
   "codemirror_mode": {
    "name": "ipython",
    "version": 3
   },
   "file_extension": ".py",
   "mimetype": "text/x-python",
   "name": "python",
   "nbconvert_exporter": "python",
   "pygments_lexer": "ipython3",
   "version": "3.8.8"
  }
 },
 "nbformat": 4,
 "nbformat_minor": 5
}
