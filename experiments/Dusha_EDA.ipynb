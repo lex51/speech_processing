{
 "cells": [
  {
   "cell_type": "code",
   "execution_count": 1,
   "id": "e37f235b",
   "metadata": {},
   "outputs": [],
   "source": [
    "import os, sys\n",
    "\n",
    "import numpy as np\n",
    "import pandas as pd\n",
    "\n",
    "import matplotlib.pyplot as plt\n",
    "import seaborn as sns\n",
    "\n",
    "from glob import glob\n",
    "from ast import literal_eval\n",
    "\n",
    "pd.options.display.max_columns = None\n",
    "\n",
    "params = {\n",
    "          'axes.titlesize': 15,   # Размер шрифта главной подписи\n",
    "          'axes.labelsize': 14,   # Размер шрифта подписей осей\n",
    "          'xtick.labelsize': 12,  # Размер шрифта подписей тикетов оси X\n",
    "          'ytick.labelsize': 12,  # Размер шрифта подписей тикетов оси Y\n",
    "\n",
    "          }\n",
    "\n",
    "plt.rcParams.update(params)\n",
    "\n",
    "__import__('warnings').filterwarnings(\"ignore\")\n",
    "\n",
    "name2index = {emotion: num for num, emotion in {0:\"angry\", 1:\"sad\", 2:\"neutral\", 3:\"positive\"}.items()}\n",
    "num2emotion = {0: 'neutral', 1: 'angry', 2: 'positive', 3: 'sad', 4: 'other'}\n",
    "emotion2num = {emotion: num for num, emotion in num2emotion.items()}"
   ]
  },
  {
   "cell_type": "code",
   "execution_count": 2,
   "id": "a3d76f0e",
   "metadata": {},
   "outputs": [],
   "source": [
    "DATASET_PATH = r'D:\\python-datasets\\dusha'\n",
    "DATASETS = ['podcast_train', 'podcast_test', 'crowd_train', 'crowd_test']"
   ]
  },
  {
   "cell_type": "code",
   "execution_count": 3,
   "id": "5304d818",
   "metadata": {},
   "outputs": [],
   "source": [
    "ds_index = -1\n",
    "dataset = os.path.join(DATASET_PATH, DATASETS[ds_index])\n",
    "dataset_info = os.path.join(dataset, f'raw_{DATASETS[ds_index]}.tsv')\n",
    "df = pd.read_csv(dataset_info, sep='\\t')"
   ]
  },
  {
   "cell_type": "code",
   "execution_count": 4,
   "id": "30b3f38a",
   "metadata": {},
   "outputs": [
    {
     "data": {
      "text/html": [
       "<div>\n",
       "<style scoped>\n",
       "    .dataframe tbody tr th:only-of-type {\n",
       "        vertical-align: middle;\n",
       "    }\n",
       "\n",
       "    .dataframe tbody tr th {\n",
       "        vertical-align: top;\n",
       "    }\n",
       "\n",
       "    .dataframe thead th {\n",
       "        text-align: right;\n",
       "    }\n",
       "</style>\n",
       "<table border=\"1\" class=\"dataframe\">\n",
       "  <thead>\n",
       "    <tr style=\"text-align: right;\">\n",
       "      <th></th>\n",
       "      <th>hash_id</th>\n",
       "      <th>audio_path</th>\n",
       "      <th>duration</th>\n",
       "      <th>annotator_emo</th>\n",
       "      <th>golden_emo</th>\n",
       "      <th>annotator_id</th>\n",
       "      <th>speaker_text</th>\n",
       "      <th>speaker_emo</th>\n",
       "      <th>source_id</th>\n",
       "    </tr>\n",
       "  </thead>\n",
       "  <tbody>\n",
       "    <tr>\n",
       "      <th>0</th>\n",
       "      <td>9e9961c53ca6eeb440b217e539fbf46c</td>\n",
       "      <td>wavs/9e9961c53ca6eeb440b217e539fbf46c.wav</td>\n",
       "      <td>5.82</td>\n",
       "      <td>neutral</td>\n",
       "      <td>NaN</td>\n",
       "      <td>858305a5450b7bd1288ba0053b1cd1c1</td>\n",
       "      <td>я слушаю</td>\n",
       "      <td>neutral</td>\n",
       "      <td>4282ddc30d71ef420e202e0c60391e9f</td>\n",
       "    </tr>\n",
       "    <tr>\n",
       "      <th>1</th>\n",
       "      <td>0166f65a30354db8282682b1a280e64c</td>\n",
       "      <td>wavs/0166f65a30354db8282682b1a280e64c.wav</td>\n",
       "      <td>3.70</td>\n",
       "      <td>sad</td>\n",
       "      <td>NaN</td>\n",
       "      <td>858305a5450b7bd1288ba0053b1cd1c1</td>\n",
       "      <td>каким стал сбер</td>\n",
       "      <td>neutral</td>\n",
       "      <td>d70dc98ed56e9362eaefefb7b2827c8f</td>\n",
       "    </tr>\n",
       "    <tr>\n",
       "      <th>2</th>\n",
       "      <td>d49a6b560155831725a7bdc7d0a96099</td>\n",
       "      <td>wavs/d49a6b560155831725a7bdc7d0a96099.wav</td>\n",
       "      <td>4.38</td>\n",
       "      <td>neutral</td>\n",
       "      <td>NaN</td>\n",
       "      <td>858305a5450b7bd1288ba0053b1cd1c1</td>\n",
       "      <td>где родился шерлок холмс</td>\n",
       "      <td>neutral</td>\n",
       "      <td>0ee35d2abecf4272ecc8e1539b0839d8</td>\n",
       "    </tr>\n",
       "    <tr>\n",
       "      <th>3</th>\n",
       "      <td>c6852b0925797612d7b6724da8cbe7b4</td>\n",
       "      <td>wavs/c6852b0925797612d7b6724da8cbe7b4.wav</td>\n",
       "      <td>8.58</td>\n",
       "      <td>neutral</td>\n",
       "      <td>NaN</td>\n",
       "      <td>858305a5450b7bd1288ba0053b1cd1c1</td>\n",
       "      <td>открой в браузере ennio morricone</td>\n",
       "      <td>neutral</td>\n",
       "      <td>0855e363c1787df1592f58f7a27ebe13</td>\n",
       "    </tr>\n",
       "    <tr>\n",
       "      <th>4</th>\n",
       "      <td>0166f65a30354db8282682b1a280e64c</td>\n",
       "      <td>wavs/0166f65a30354db8282682b1a280e64c.wav</td>\n",
       "      <td>3.70</td>\n",
       "      <td>sad</td>\n",
       "      <td>NaN</td>\n",
       "      <td>a5562e26cd8f1949488a2d1e1e549d97</td>\n",
       "      <td>каким стал сбер</td>\n",
       "      <td>neutral</td>\n",
       "      <td>d70dc98ed56e9362eaefefb7b2827c8f</td>\n",
       "    </tr>\n",
       "    <tr>\n",
       "      <th>5</th>\n",
       "      <td>9e9961c53ca6eeb440b217e539fbf46c</td>\n",
       "      <td>wavs/9e9961c53ca6eeb440b217e539fbf46c.wav</td>\n",
       "      <td>5.82</td>\n",
       "      <td>neutral</td>\n",
       "      <td>NaN</td>\n",
       "      <td>a5562e26cd8f1949488a2d1e1e549d97</td>\n",
       "      <td>я слушаю</td>\n",
       "      <td>neutral</td>\n",
       "      <td>4282ddc30d71ef420e202e0c60391e9f</td>\n",
       "    </tr>\n",
       "    <tr>\n",
       "      <th>6</th>\n",
       "      <td>d49a6b560155831725a7bdc7d0a96099</td>\n",
       "      <td>wavs/d49a6b560155831725a7bdc7d0a96099.wav</td>\n",
       "      <td>4.38</td>\n",
       "      <td>neutral</td>\n",
       "      <td>NaN</td>\n",
       "      <td>a5562e26cd8f1949488a2d1e1e549d97</td>\n",
       "      <td>где родился шерлок холмс</td>\n",
       "      <td>neutral</td>\n",
       "      <td>0ee35d2abecf4272ecc8e1539b0839d8</td>\n",
       "    </tr>\n",
       "  </tbody>\n",
       "</table>\n",
       "</div>"
      ],
      "text/plain": [
       "                            hash_id  \\\n",
       "0  9e9961c53ca6eeb440b217e539fbf46c   \n",
       "1  0166f65a30354db8282682b1a280e64c   \n",
       "2  d49a6b560155831725a7bdc7d0a96099   \n",
       "3  c6852b0925797612d7b6724da8cbe7b4   \n",
       "4  0166f65a30354db8282682b1a280e64c   \n",
       "5  9e9961c53ca6eeb440b217e539fbf46c   \n",
       "6  d49a6b560155831725a7bdc7d0a96099   \n",
       "\n",
       "                                  audio_path  duration annotator_emo  \\\n",
       "0  wavs/9e9961c53ca6eeb440b217e539fbf46c.wav      5.82       neutral   \n",
       "1  wavs/0166f65a30354db8282682b1a280e64c.wav      3.70           sad   \n",
       "2  wavs/d49a6b560155831725a7bdc7d0a96099.wav      4.38       neutral   \n",
       "3  wavs/c6852b0925797612d7b6724da8cbe7b4.wav      8.58       neutral   \n",
       "4  wavs/0166f65a30354db8282682b1a280e64c.wav      3.70           sad   \n",
       "5  wavs/9e9961c53ca6eeb440b217e539fbf46c.wav      5.82       neutral   \n",
       "6  wavs/d49a6b560155831725a7bdc7d0a96099.wav      4.38       neutral   \n",
       "\n",
       "   golden_emo                      annotator_id  \\\n",
       "0         NaN  858305a5450b7bd1288ba0053b1cd1c1   \n",
       "1         NaN  858305a5450b7bd1288ba0053b1cd1c1   \n",
       "2         NaN  858305a5450b7bd1288ba0053b1cd1c1   \n",
       "3         NaN  858305a5450b7bd1288ba0053b1cd1c1   \n",
       "4         NaN  a5562e26cd8f1949488a2d1e1e549d97   \n",
       "5         NaN  a5562e26cd8f1949488a2d1e1e549d97   \n",
       "6         NaN  a5562e26cd8f1949488a2d1e1e549d97   \n",
       "\n",
       "                        speaker_text speaker_emo  \\\n",
       "0                           я слушаю     neutral   \n",
       "1                    каким стал сбер     neutral   \n",
       "2           где родился шерлок холмс     neutral   \n",
       "3  открой в браузере ennio morricone     neutral   \n",
       "4                    каким стал сбер     neutral   \n",
       "5                           я слушаю     neutral   \n",
       "6           где родился шерлок холмс     neutral   \n",
       "\n",
       "                          source_id  \n",
       "0  4282ddc30d71ef420e202e0c60391e9f  \n",
       "1  d70dc98ed56e9362eaefefb7b2827c8f  \n",
       "2  0ee35d2abecf4272ecc8e1539b0839d8  \n",
       "3  0855e363c1787df1592f58f7a27ebe13  \n",
       "4  d70dc98ed56e9362eaefefb7b2827c8f  \n",
       "5  4282ddc30d71ef420e202e0c60391e9f  \n",
       "6  0ee35d2abecf4272ecc8e1539b0839d8  "
      ]
     },
     "execution_count": 4,
     "metadata": {},
     "output_type": "execute_result"
    }
   ],
   "source": [
    "df.head(7)"
   ]
  },
  {
   "cell_type": "markdown",
   "id": "136bbc3e",
   "metadata": {},
   "source": [
    "#### Видно, что в некоторых записях эмоции в аннотации и спикера не совпадают, будем избавимся от таких записей"
   ]
  },
  {
   "cell_type": "code",
   "execution_count": 5,
   "id": "8b89b76d",
   "metadata": {},
   "outputs": [
    {
     "name": "stdout",
     "output_type": "stream",
     "text": [
      "<class 'pandas.core.frame.DataFrame'>\n",
      "RangeIndex: 79088 entries, 0 to 79087\n",
      "Data columns (total 9 columns):\n",
      " #   Column         Non-Null Count  Dtype  \n",
      "---  ------         --------------  -----  \n",
      " 0   hash_id        79088 non-null  object \n",
      " 1   audio_path     79088 non-null  object \n",
      " 2   duration       79088 non-null  float64\n",
      " 3   annotator_emo  79088 non-null  object \n",
      " 4   golden_emo     6998 non-null   float64\n",
      " 5   annotator_id   79088 non-null  object \n",
      " 6   speaker_text   77833 non-null  object \n",
      " 7   speaker_emo    77833 non-null  object \n",
      " 8   source_id      77833 non-null  object \n",
      "dtypes: float64(2), object(7)\n",
      "memory usage: 5.4+ MB\n"
     ]
    }
   ],
   "source": [
    "df.info()"
   ]
  },
  {
   "cell_type": "code",
   "execution_count": 6,
   "id": "f5d1be1f",
   "metadata": {},
   "outputs": [
    {
     "name": "stdout",
     "output_type": "stream",
     "text": [
      "Файл: raw_podcast_train.tsv\n",
      "<class 'pandas.core.frame.DataFrame'>\n",
      "RangeIndex: 645813 entries, 0 to 645812\n",
      "Data columns (total 2 columns):\n",
      " #   Column         Non-Null Count   Dtype  \n",
      "---  ------         --------------   -----  \n",
      " 0   annotator_emo  645813 non-null  object \n",
      " 1   speaker_emo    0 non-null       float64\n",
      "dtypes: float64(1), object(1)\n",
      "memory usage: 9.9+ MB\n",
      "None\n",
      "count    645813.000000\n",
      "mean          3.253059\n",
      "std           0.994352\n",
      "min           1.099875\n",
      "25%           2.500000\n",
      "50%           3.200000\n",
      "75%           4.000000\n",
      "max           9.260000\n",
      "Name: duration, dtype: float64 \n",
      "\n",
      "Файл: raw_podcast_test.tsv\n",
      "<class 'pandas.core.frame.DataFrame'>\n",
      "RangeIndex: 83447 entries, 0 to 83446\n",
      "Data columns (total 2 columns):\n",
      " #   Column         Non-Null Count  Dtype  \n",
      "---  ------         --------------  -----  \n",
      " 0   annotator_emo  83447 non-null  object \n",
      " 1   speaker_emo    0 non-null      float64\n",
      "dtypes: float64(1), object(1)\n",
      "memory usage: 1.3+ MB\n",
      "None\n",
      "count    83447.000000\n",
      "mean         3.193205\n",
      "std          0.935630\n",
      "min          1.100000\n",
      "25%          2.400000\n",
      "50%          3.100125\n",
      "75%          3.900375\n",
      "max          5.000000\n",
      "Name: duration, dtype: float64 \n",
      "\n",
      "Файл: raw_crowd_train.tsv\n",
      "<class 'pandas.core.frame.DataFrame'>\n",
      "RangeIndex: 906953 entries, 0 to 906952\n",
      "Data columns (total 2 columns):\n",
      " #   Column         Non-Null Count   Dtype \n",
      "---  ------         --------------   ----- \n",
      " 0   annotator_emo  906953 non-null  object\n",
      " 1   speaker_emo    829176 non-null  object\n",
      "dtypes: object(2)\n",
      "memory usage: 13.8+ MB\n",
      "None\n",
      "count    906953.000000\n",
      "mean          4.532336\n",
      "std           1.590199\n",
      "min           0.064000\n",
      "25%           3.440000\n",
      "50%           4.320000\n",
      "75%           5.360000\n",
      "max          30.640000\n",
      "Name: duration, dtype: float64 \n",
      "\n",
      "Файл: raw_crowd_test.tsv\n",
      "<class 'pandas.core.frame.DataFrame'>\n",
      "RangeIndex: 79088 entries, 0 to 79087\n",
      "Data columns (total 2 columns):\n",
      " #   Column         Non-Null Count  Dtype \n",
      "---  ------         --------------  ----- \n",
      " 0   annotator_emo  79088 non-null  object\n",
      " 1   speaker_emo    77833 non-null  object\n",
      "dtypes: object(2)\n",
      "memory usage: 1.2+ MB\n",
      "None\n",
      "count    79088.000000\n",
      "mean         4.726625\n",
      "std          1.477528\n",
      "min          0.660125\n",
      "25%          3.740000\n",
      "50%          4.560000\n",
      "75%          5.520000\n",
      "max         21.849563\n",
      "Name: duration, dtype: float64 \n",
      "\n"
     ]
    }
   ],
   "source": [
    "for ds_path in DATASETS:\n",
    "    file_list = glob(os.path.join(DATASET_PATH, ds_path, '*.tsv'))\n",
    "    for file in file_list:\n",
    "        df = pd.read_csv(file, sep='\\t')\n",
    "        print(f'Файл: {os.path.basename(file)}')\n",
    "        print(df[['annotator_emo', 'speaker_emo']].info())\n",
    "        print(df.duration.describe(), '\\n')"
   ]
  },
  {
   "cell_type": "markdown",
   "id": "4abbc656",
   "metadata": {},
   "source": [
    "### В домене *podcast* не заполнено поле *speaker_emo*\n",
    "\n",
    "### В домене *crowd* есть пропуски в поле *speaker_emo*"
   ]
  },
  {
   "cell_type": "code",
   "execution_count": 7,
   "id": "f4034b0d",
   "metadata": {},
   "outputs": [
    {
     "data": {
      "image/png": "[encoded data removed]",
      "text/plain": [
       "<Figure size 720x360 with 1 Axes>"
      ]
     },
     "metadata": {
      "needs_background": "light"
     },
     "output_type": "display_data"
    },
    {
     "data": {
      "image/png": "[encoded data removed]",
      "text/plain": [
       "<Figure size 720x360 with 1 Axes>"
      ]
     },
     "metadata": {
      "needs_background": "light"
     },
     "output_type": "display_data"
    },
    {
     "data": {
      "image/png": "[encoded data removed]",
      "text/plain": [
       "<Figure size 720x360 with 1 Axes>"
      ]
     },
     "metadata": {
      "needs_background": "light"
     },
     "output_type": "display_data"
    },
    {
     "data": {
      "image/png": "[encoded data removed]",
      "text/plain": [
       "<Figure size 720x360 with 1 Axes>"
      ]
     },
     "metadata": {
      "needs_background": "light"
     },
     "output_type": "display_data"
    }
   ],
   "source": [
    "# Распределение по эмоциям в доменах podcast и crowd в тренировочной и тестовой выборках\n",
    "\n",
    "sns.set_palette(\"pastel\")\n",
    "for ds_path in DATASETS:\n",
    "    file_list = glob(os.path.join(DATASET_PATH, ds_path, '*.tsv'))\n",
    "    for file in file_list:\n",
    "        df = pd.read_csv(file, sep='\\t')\n",
    "        df.sort_values(by='annotator_emo', inplace=True)\n",
    "        fig, ax = plt.subplots(figsize=(10, 5))\n",
    "        plt.title(file.split('\\\\')[-1])\n",
    "        sns.countplot(df.annotator_emo)\n",
    "        plt.show()"
   ]
  },
  {
   "cell_type": "code",
   "execution_count": 8,
   "id": "a2a9087e",
   "metadata": {},
   "outputs": [
    {
     "name": "stdout",
     "output_type": "stream",
     "text": [
      "Файл: raw_podcast_train.tsv\n",
      "neutral     0.897605\n",
      "positive    0.057859\n",
      "sad         0.023381\n",
      "angry       0.018093\n",
      "other       0.003061\n",
      "Name: annotator_emo, dtype: float64\n",
      "Файл: raw_podcast_test.tsv\n",
      "neutral     0.902789\n",
      "positive    0.057294\n",
      "angry       0.020396\n",
      "sad         0.016034\n",
      "other       0.003487\n",
      "Name: annotator_emo, dtype: float64\n",
      "Файл: raw_crowd_train.tsv\n",
      "neutral     0.616902\n",
      "sad         0.181565\n",
      "positive    0.096210\n",
      "angry       0.094301\n",
      "other       0.011022\n",
      "Name: annotator_emo, dtype: float64\n",
      "Файл: raw_crowd_test.tsv\n",
      "neutral     0.618514\n",
      "sad         0.222575\n",
      "angry       0.075700\n",
      "positive    0.073020\n",
      "other       0.010191\n",
      "Name: annotator_emo, dtype: float64\n"
     ]
    }
   ],
   "source": [
    "for ds_path in DATASETS:\n",
    "    file_list = glob(os.path.join(DATASET_PATH, ds_path, '*.tsv'))\n",
    "    for file in file_list:\n",
    "        df = pd.read_csv(file, sep='\\t')\n",
    "        print(f'Файл: {os.path.basename(file).strip()}')\n",
    "        print(df[\"annotator_emo\"].value_counts(normalize=True))"
   ]
  },
  {
   "cell_type": "markdown",
   "id": "a01d7381",
   "metadata": {},
   "source": [
    "### В трейне и тесте примерное одинаковое соотношение записей по количеству эмоций"
   ]
  },
  {
   "cell_type": "code",
   "execution_count": 9,
   "id": "f2be3699",
   "metadata": {},
   "outputs": [
    {
     "name": "stdout",
     "output_type": "stream",
     "text": [
      "Файл: raw_crowd_train.tsv  \tКол-во строк: 906953 Кол-во несовпадающих эмоций:  302594\n"
     ]
    },
    {
     "data": {
      "image/png": "[encoded data removed]",
      "text/plain": [
       "<Figure size 720x360 with 1 Axes>"
      ]
     },
     "metadata": {
      "needs_background": "light"
     },
     "output_type": "display_data"
    },
    {
     "name": "stdout",
     "output_type": "stream",
     "text": [
      "Файл: raw_crowd_test.tsv  \tКол-во строк:  79088 Кол-во несовпадающих эмоций:  24831\n"
     ]
    },
    {
     "data": {
      "image/png": "[encoded data removed]",
      "text/plain": [
       "<Figure size 720x360 with 1 Axes>"
      ]
     },
     "metadata": {
      "needs_background": "light"
     },
     "output_type": "display_data"
    }
   ],
   "source": [
    "# После удаления несоответствий эмоций в аннотации и спикера\n",
    "\n",
    "sns.set_palette(\"pastel\")\n",
    "for ds_path in DATASETS[2:]:\n",
    "    file_list = glob(os.path.join(DATASET_PATH, ds_path, '*.tsv'))\n",
    "    for file in file_list:\n",
    "        df = pd.read_csv(file, sep='\\t')\n",
    "        df[\"speaker_emo\"].fillna(df[\"annotator_emo\"], inplace=True)\n",
    "        print(f'Файл: {os.path.basename(file).strip()} ', \n",
    "              f'\\tКол-во строк: {len(df):6}', \n",
    "              'Кол-во несовпадающих эмоций: ', sum(df[\"speaker_emo\"] != df[\"annotator_emo\"]))\n",
    "        df = df[df[\"speaker_emo\"] == df[\"annotator_emo\"]]\n",
    "        df.sort_values(by='speaker_emo', inplace=True)\n",
    "        fig, ax = plt.subplots(figsize=(10, 5))\n",
    "        plt.title(file.split('\\\\')[-1])\n",
    "        sns.countplot(df.speaker_emo)\n",
    "        plt.show()"
   ]
  },
  {
   "cell_type": "code",
   "execution_count": 10,
   "id": "420f3945",
   "metadata": {},
   "outputs": [
    {
     "name": "stdout",
     "output_type": "stream",
     "text": [
      "Файл: raw_crowd_train.tsv\n",
      "neutral     0.535397\n",
      "sad         0.236030\n",
      "angry       0.128452\n",
      "positive    0.099686\n",
      "other       0.000435\n",
      "Name: annotator_emo, dtype: float64\n",
      "Файл: raw_crowd_test.tsv\n",
      "neutral     0.570341\n",
      "sad         0.264851\n",
      "angry       0.092007\n",
      "positive    0.072746\n",
      "other       0.000055\n",
      "Name: annotator_emo, dtype: float64\n"
     ]
    }
   ],
   "source": [
    "for ds_path in DATASETS[2:]:\n",
    "    file_list = glob(os.path.join(DATASET_PATH, ds_path, '*.tsv'))\n",
    "    for file in file_list:\n",
    "        df = pd.read_csv(file, sep='\\t')\n",
    "        df[\"speaker_emo\"].fillna(df[\"annotator_emo\"], inplace=True)\n",
    "        print(f'Файл: {os.path.basename(file).strip()}')\n",
    "        df = df[df[\"speaker_emo\"] == df[\"annotator_emo\"]]\n",
    "        print(df[\"annotator_emo\"].value_counts(normalize=True))"
   ]
  },
  {
   "cell_type": "code",
   "execution_count": null,
   "id": "bb0d6fe9",
   "metadata": {},
   "outputs": [],
   "source": []
  }
 ],
 "metadata": {
  "kernelspec": {
   "display_name": "Python 3",
   "language": "python",
   "name": "python3"
  },
  "language_info": {
   "codemirror_mode": {
    "name": "ipython",
    "version": 3
   },
   "file_extension": ".py",
   "mimetype": "text/x-python",
   "name": "python",
   "nbconvert_exporter": "python",
   "pygments_lexer": "ipython3",
   "version": "3.8.8"
  }
 },
 "nbformat": 4,
 "nbformat_minor": 5
}
