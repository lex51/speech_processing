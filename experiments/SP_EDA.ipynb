{
 "cells": [
  {
   "cell_type": "code",
   "execution_count": 1,
   "id": "e37f235b",
   "metadata": {},
   "outputs": [],
   "source": [
    "import os, sys\n",
    "\n",
    "import numpy as np\n",
    "import pandas as pd\n",
    "\n",
    "import matplotlib.pyplot as plt\n",
    "import seaborn as sns\n",
    "\n",
    "from glob import glob\n",
    "from ast import literal_eval\n",
    "\n",
    "pd.options.display.max_columns = None\n",
    "\n",
    "params = {\n",
    "          'axes.titlesize': 15,   # Размер шрифта главной подписи\n",
    "          'axes.labelsize': 14,   # Размер шрифта подписей осей\n",
    "          'xtick.labelsize': 12,  # Размер шрифта подписей тикетов оси X\n",
    "          'ytick.labelsize': 12,  # Размер шрифта подписей тикетов оси Y\n",
    "\n",
    "          }\n",
    "\n",
    "plt.rcParams.update(params)\n",
    "\n",
    "__import__('warnings').filterwarnings(\"ignore\")\n",
    "\n",
    "name2index = {emotion: num for num, emotion in {0:\"angry\", 1:\"sad\", 2:\"neutral\", 3:\"positive\"}.items()}\n",
    "num2emotion = {0: 'neutral', 1: 'angry', 2: 'positive', 3: 'sad', 4: 'other'}\n",
    "emotion2num = {emotion: num for num, emotion in num2emotion.items()}"
   ]
  },
  {
   "cell_type": "code",
   "execution_count": 2,
   "id": "a3d76f0e",
   "metadata": {},
   "outputs": [],
   "source": [
    "DATASET_PATH = r'D:\\python-datasets\\dusha'\n",
    "DATASETS = ['podcast_train', 'podcast_test', 'asr_calls_2_val', 'ChatExport',\n",
    "            'crowd_train', 'crowd_test']"
   ]
  },
  {
   "cell_type": "code",
   "execution_count": 3,
   "id": "5304d818",
   "metadata": {},
   "outputs": [],
   "source": [
    "ds_index = -1\n",
    "dateset = os.path.join(DATASET_PATH, DATASETS[ds_index])\n",
    "dateset_info = os.path.join(dateset, f'raw_{DATASETS[ds_index]}.tsv')\n",
    "df = pd.read_csv(dateset_info, sep='\\t')"
   ]
  },
  {
   "cell_type": "code",
   "execution_count": 4,
   "id": "30b3f38a",
   "metadata": {},
   "outputs": [
    {
     "data": {
      "text/html": [
       "<div>\n",
       "<style scoped>\n",
       "    .dataframe tbody tr th:only-of-type {\n",
       "        vertical-align: middle;\n",
       "    }\n",
       "\n",
       "    .dataframe tbody tr th {\n",
       "        vertical-align: top;\n",
       "    }\n",
       "\n",
       "    .dataframe thead th {\n",
       "        text-align: right;\n",
       "    }\n",
       "</style>\n",
       "<table border=\"1\" class=\"dataframe\">\n",
       "  <thead>\n",
       "    <tr style=\"text-align: right;\">\n",
       "      <th></th>\n",
       "      <th>hash_id</th>\n",
       "      <th>audio_path</th>\n",
       "      <th>duration</th>\n",
       "      <th>annotator_emo</th>\n",
       "      <th>golden_emo</th>\n",
       "      <th>annotator_id</th>\n",
       "      <th>speaker_text</th>\n",
       "      <th>speaker_emo</th>\n",
       "      <th>source_id</th>\n",
       "    </tr>\n",
       "  </thead>\n",
       "  <tbody>\n",
       "    <tr>\n",
       "      <th>0</th>\n",
       "      <td>9e9961c53ca6eeb440b217e539fbf46c</td>\n",
       "      <td>wavs/9e9961c53ca6eeb440b217e539fbf46c.wav</td>\n",
       "      <td>5.82</td>\n",
       "      <td>neutral</td>\n",
       "      <td>NaN</td>\n",
       "      <td>858305a5450b7bd1288ba0053b1cd1c1</td>\n",
       "      <td>я слушаю</td>\n",
       "      <td>neutral</td>\n",
       "      <td>4282ddc30d71ef420e202e0c60391e9f</td>\n",
       "    </tr>\n",
       "    <tr>\n",
       "      <th>1</th>\n",
       "      <td>0166f65a30354db8282682b1a280e64c</td>\n",
       "      <td>wavs/0166f65a30354db8282682b1a280e64c.wav</td>\n",
       "      <td>3.70</td>\n",
       "      <td>sad</td>\n",
       "      <td>NaN</td>\n",
       "      <td>858305a5450b7bd1288ba0053b1cd1c1</td>\n",
       "      <td>каким стал сбер</td>\n",
       "      <td>neutral</td>\n",
       "      <td>d70dc98ed56e9362eaefefb7b2827c8f</td>\n",
       "    </tr>\n",
       "    <tr>\n",
       "      <th>2</th>\n",
       "      <td>d49a6b560155831725a7bdc7d0a96099</td>\n",
       "      <td>wavs/d49a6b560155831725a7bdc7d0a96099.wav</td>\n",
       "      <td>4.38</td>\n",
       "      <td>neutral</td>\n",
       "      <td>NaN</td>\n",
       "      <td>858305a5450b7bd1288ba0053b1cd1c1</td>\n",
       "      <td>где родился шерлок холмс</td>\n",
       "      <td>neutral</td>\n",
       "      <td>0ee35d2abecf4272ecc8e1539b0839d8</td>\n",
       "    </tr>\n",
       "    <tr>\n",
       "      <th>3</th>\n",
       "      <td>c6852b0925797612d7b6724da8cbe7b4</td>\n",
       "      <td>wavs/c6852b0925797612d7b6724da8cbe7b4.wav</td>\n",
       "      <td>8.58</td>\n",
       "      <td>neutral</td>\n",
       "      <td>NaN</td>\n",
       "      <td>858305a5450b7bd1288ba0053b1cd1c1</td>\n",
       "      <td>открой в браузере ennio morricone</td>\n",
       "      <td>neutral</td>\n",
       "      <td>0855e363c1787df1592f58f7a27ebe13</td>\n",
       "    </tr>\n",
       "    <tr>\n",
       "      <th>4</th>\n",
       "      <td>0166f65a30354db8282682b1a280e64c</td>\n",
       "      <td>wavs/0166f65a30354db8282682b1a280e64c.wav</td>\n",
       "      <td>3.70</td>\n",
       "      <td>sad</td>\n",
       "      <td>NaN</td>\n",
       "      <td>a5562e26cd8f1949488a2d1e1e549d97</td>\n",
       "      <td>каким стал сбер</td>\n",
       "      <td>neutral</td>\n",
       "      <td>d70dc98ed56e9362eaefefb7b2827c8f</td>\n",
       "    </tr>\n",
       "  </tbody>\n",
       "</table>\n",
       "</div>"
      ],
      "text/plain": [
       "                            hash_id  \\\n",
       "0  9e9961c53ca6eeb440b217e539fbf46c   \n",
       "1  0166f65a30354db8282682b1a280e64c   \n",
       "2  d49a6b560155831725a7bdc7d0a96099   \n",
       "3  c6852b0925797612d7b6724da8cbe7b4   \n",
       "4  0166f65a30354db8282682b1a280e64c   \n",
       "\n",
       "                                  audio_path  duration annotator_emo  \\\n",
       "0  wavs/9e9961c53ca6eeb440b217e539fbf46c.wav      5.82       neutral   \n",
       "1  wavs/0166f65a30354db8282682b1a280e64c.wav      3.70           sad   \n",
       "2  wavs/d49a6b560155831725a7bdc7d0a96099.wav      4.38       neutral   \n",
       "3  wavs/c6852b0925797612d7b6724da8cbe7b4.wav      8.58       neutral   \n",
       "4  wavs/0166f65a30354db8282682b1a280e64c.wav      3.70           sad   \n",
       "\n",
       "   golden_emo                      annotator_id  \\\n",
       "0         NaN  858305a5450b7bd1288ba0053b1cd1c1   \n",
       "1         NaN  858305a5450b7bd1288ba0053b1cd1c1   \n",
       "2         NaN  858305a5450b7bd1288ba0053b1cd1c1   \n",
       "3         NaN  858305a5450b7bd1288ba0053b1cd1c1   \n",
       "4         NaN  a5562e26cd8f1949488a2d1e1e549d97   \n",
       "\n",
       "                        speaker_text speaker_emo  \\\n",
       "0                           я слушаю     neutral   \n",
       "1                    каким стал сбер     neutral   \n",
       "2           где родился шерлок холмс     neutral   \n",
       "3  открой в браузере ennio morricone     neutral   \n",
       "4                    каким стал сбер     neutral   \n",
       "\n",
       "                          source_id  \n",
       "0  4282ddc30d71ef420e202e0c60391e9f  \n",
       "1  d70dc98ed56e9362eaefefb7b2827c8f  \n",
       "2  0ee35d2abecf4272ecc8e1539b0839d8  \n",
       "3  0855e363c1787df1592f58f7a27ebe13  \n",
       "4  d70dc98ed56e9362eaefefb7b2827c8f  "
      ]
     },
     "execution_count": 4,
     "metadata": {},
     "output_type": "execute_result"
    }
   ],
   "source": [
    "df.head()"
   ]
  },
  {
   "cell_type": "code",
   "execution_count": 5,
   "id": "8b89b76d",
   "metadata": {},
   "outputs": [
    {
     "name": "stdout",
     "output_type": "stream",
     "text": [
      "<class 'pandas.core.frame.DataFrame'>\n",
      "RangeIndex: 79088 entries, 0 to 79087\n",
      "Data columns (total 9 columns):\n",
      " #   Column         Non-Null Count  Dtype  \n",
      "---  ------         --------------  -----  \n",
      " 0   hash_id        79088 non-null  object \n",
      " 1   audio_path     79088 non-null  object \n",
      " 2   duration       79088 non-null  float64\n",
      " 3   annotator_emo  79088 non-null  object \n",
      " 4   golden_emo     6998 non-null   float64\n",
      " 5   annotator_id   79088 non-null  object \n",
      " 6   speaker_text   77833 non-null  object \n",
      " 7   speaker_emo    77833 non-null  object \n",
      " 8   source_id      77833 non-null  object \n",
      "dtypes: float64(2), object(7)\n",
      "memory usage: 5.4+ MB\n"
     ]
    }
   ],
   "source": [
    "df.info()"
   ]
  },
  {
   "cell_type": "code",
   "execution_count": 6,
   "id": "76c71c4d",
   "metadata": {},
   "outputs": [
    {
     "data": {
      "text/plain": [
       "count    79088.000000\n",
       "mean         4.726625\n",
       "std          1.477528\n",
       "min          0.660125\n",
       "25%          3.740000\n",
       "50%          4.560000\n",
       "75%          5.520000\n",
       "max         21.849563\n",
       "Name: duration, dtype: float64"
      ]
     },
     "execution_count": 6,
     "metadata": {},
     "output_type": "execute_result"
    }
   ],
   "source": [
    "df.duration.describe()"
   ]
  },
  {
   "cell_type": "code",
   "execution_count": 7,
   "id": "f4034b0d",
   "metadata": {
    "scrolled": false
   },
   "outputs": [
    {
     "data": {
      "image/png": "[encoded data removed]",
      "text/plain": [
       "<Figure size 720x360 with 1 Axes>"
      ]
     },
     "metadata": {
      "needs_background": "light"
     },
     "output_type": "display_data"
    },
    {
     "data": {
      "image/png": "[encoded data removed]",
      "text/plain": [
       "<Figure size 720x360 with 1 Axes>"
      ]
     },
     "metadata": {
      "needs_background": "light"
     },
     "output_type": "display_data"
    },
    {
     "data": {
      "image/png": "[encoded data removed]",
      "text/plain": [
       "<Figure size 720x360 with 1 Axes>"
      ]
     },
     "metadata": {
      "needs_background": "light"
     },
     "output_type": "display_data"
    },
    {
     "data": {
      "image/png": "[encoded data removed]",
      "text/plain": [
       "<Figure size 720x360 with 1 Axes>"
      ]
     },
     "metadata": {
      "needs_background": "light"
     },
     "output_type": "display_data"
    }
   ],
   "source": [
    "sns.set_palette(\"pastel\")\n",
    "for ds_path in DATASETS:\n",
    "    if ds_path in ('asr_calls_2_val', 'ChatExport'):\n",
    "        continue\n",
    "    file_list = glob(os.path.join(DATASET_PATH, ds_path, '*.tsv'))\n",
    "    for file in file_list:\n",
    "        df = pd.read_csv(file, sep='\\t')\n",
    "        df.sort_values(by='annotator_emo', inplace=True)\n",
    "        fig, ax = plt.subplots(figsize=(10, 5))\n",
    "        plt.title(file.split('\\\\')[-1])\n",
    "        sns.countplot(df.annotator_emo)\n",
    "        plt.show()"
   ]
  },
  {
   "cell_type": "code",
   "execution_count": 8,
   "id": "a40308d2",
   "metadata": {},
   "outputs": [],
   "source": [
    "df[\"speaker_emo\"].fillna(df[\"annotator_emo\"], inplace=True)"
   ]
  },
  {
   "cell_type": "code",
   "execution_count": 9,
   "id": "f2be3699",
   "metadata": {},
   "outputs": [
    {
     "data": {
      "image/png": "[encoded data removed]",
      "text/plain": [
       "<Figure size 720x360 with 1 Axes>"
      ]
     },
     "metadata": {
      "needs_background": "light"
     },
     "output_type": "display_data"
    },
    {
     "data": {
      "image/png": "[encoded data removed]",
      "text/plain": [
       "<Figure size 720x360 with 1 Axes>"
      ]
     },
     "metadata": {
      "needs_background": "light"
     },
     "output_type": "display_data"
    },
    {
     "data": {
      "image/png": "[encoded data removed]",
      "text/plain": [
       "<Figure size 720x360 with 1 Axes>"
      ]
     },
     "metadata": {
      "needs_background": "light"
     },
     "output_type": "display_data"
    },
    {
     "data": {
      "image/png": "[encoded data removed]",
      "text/plain": [
       "<Figure size 720x360 with 1 Axes>"
      ]
     },
     "metadata": {
      "needs_background": "light"
     },
     "output_type": "display_data"
    }
   ],
   "source": [
    "sns.set_palette(\"pastel\")\n",
    "for ds_path in DATASETS:\n",
    "    if ds_path in ('asr_calls_2_val', 'ChatExport'):\n",
    "        continue\n",
    "    file_list = glob(os.path.join(DATASET_PATH, ds_path, '*.tsv'))\n",
    "    for file in file_list:\n",
    "        df = pd.read_csv(file, sep='\\t')\n",
    "        df[\"speaker_emo\"].fillna(df[\"annotator_emo\"], inplace=True)\n",
    "        df.sort_values(by='speaker_emo', inplace=True)\n",
    "        fig, ax = plt.subplots(figsize=(10, 5))\n",
    "        plt.title(file.split('\\\\')[-1])\n",
    "        sns.countplot(df.speaker_emo)\n",
    "        plt.show()"
   ]
  },
  {
   "cell_type": "code",
   "execution_count": 10,
   "id": "86255d45",
   "metadata": {},
   "outputs": [
    {
     "data": {
      "text/html": [
       "<div>\n",
       "<style scoped>\n",
       "    .dataframe tbody tr th:only-of-type {\n",
       "        vertical-align: middle;\n",
       "    }\n",
       "\n",
       "    .dataframe tbody tr th {\n",
       "        vertical-align: top;\n",
       "    }\n",
       "\n",
       "    .dataframe thead th {\n",
       "        text-align: right;\n",
       "    }\n",
       "</style>\n",
       "<table border=\"1\" class=\"dataframe\">\n",
       "  <thead>\n",
       "    <tr style=\"text-align: right;\">\n",
       "      <th></th>\n",
       "      <th>hash_id</th>\n",
       "      <th>audio_path</th>\n",
       "      <th>duration</th>\n",
       "      <th>annotator_emo</th>\n",
       "      <th>golden_emo</th>\n",
       "      <th>annotator_id</th>\n",
       "      <th>speaker_text</th>\n",
       "      <th>speaker_emo</th>\n",
       "      <th>source_id</th>\n",
       "    </tr>\n",
       "  </thead>\n",
       "  <tbody>\n",
       "    <tr>\n",
       "      <th>65254</th>\n",
       "      <td>c7832c1d9c13f947f0628f8b9d7e86e7</td>\n",
       "      <td>wavs/c7832c1d9c13f947f0628f8b9d7e86e7.wav</td>\n",
       "      <td>3.30</td>\n",
       "      <td>neutral</td>\n",
       "      <td>NaN</td>\n",
       "      <td>22dfd02b50dbd35a4f42482c14c541ce</td>\n",
       "      <td>акустический концерт</td>\n",
       "      <td>neutral</td>\n",
       "      <td>6242fa8c649d19ad0a0d19dace69383c</td>\n",
       "    </tr>\n",
       "    <tr>\n",
       "      <th>56180</th>\n",
       "      <td>740391ec199e9e745f954ac46430d983</td>\n",
       "      <td>wavs/740391ec199e9e745f954ac46430d983.wav</td>\n",
       "      <td>4.58</td>\n",
       "      <td>neutral</td>\n",
       "      <td>NaN</td>\n",
       "      <td>59db5e63a0e312973f31bd85e55b90ef</td>\n",
       "      <td>включи группу винтаж</td>\n",
       "      <td>neutral</td>\n",
       "      <td>0e411b8c14aca164260fa933b512e9aa</td>\n",
       "    </tr>\n",
       "    <tr>\n",
       "      <th>77388</th>\n",
       "      <td>fa436e7c630646a13696e95283d9bc19</td>\n",
       "      <td>wavs/fa436e7c630646a13696e95283d9bc19.wav</td>\n",
       "      <td>3.34</td>\n",
       "      <td>sad</td>\n",
       "      <td>NaN</td>\n",
       "      <td>17d196344772058258b2311b6b040dd2</td>\n",
       "      <td>байдзи огурчик</td>\n",
       "      <td>sad</td>\n",
       "      <td>542c04beb66dc5394341400d7f146757</td>\n",
       "    </tr>\n",
       "    <tr>\n",
       "      <th>71290</th>\n",
       "      <td>76b65ca97d972aebe8eb1295ecee691c</td>\n",
       "      <td>wavs/76b65ca97d972aebe8eb1295ecee691c.wav</td>\n",
       "      <td>7.22</td>\n",
       "      <td>neutral</td>\n",
       "      <td>NaN</td>\n",
       "      <td>25cc45cff9fd28bf0ce110525a98e46c</td>\n",
       "      <td>поставь таймер на час</td>\n",
       "      <td>neutral</td>\n",
       "      <td>26cf6dbe24d68c96be4f8fed8e0393e2</td>\n",
       "    </tr>\n",
       "    <tr>\n",
       "      <th>65957</th>\n",
       "      <td>6657957c379bf1fb20d34adc22613e83</td>\n",
       "      <td>wavs/6657957c379bf1fb20d34adc22613e83.wav</td>\n",
       "      <td>4.54</td>\n",
       "      <td>neutral</td>\n",
       "      <td>3.0</td>\n",
       "      <td>afbac5212fc9378f26af0697624a8da2</td>\n",
       "      <td>красноярские новости</td>\n",
       "      <td>sad</td>\n",
       "      <td>d5d65297b9534c646b9adaa1e79126b6</td>\n",
       "    </tr>\n",
       "    <tr>\n",
       "      <th>54186</th>\n",
       "      <td>6ef20c22488837d4e6bffddd69653d59</td>\n",
       "      <td>wavs/6ef20c22488837d4e6bffddd69653d59.wav</td>\n",
       "      <td>6.60</td>\n",
       "      <td>neutral</td>\n",
       "      <td>NaN</td>\n",
       "      <td>b8a0b78e0d204ba055546e4af2896e38</td>\n",
       "      <td>смотреть как открывают новые скрепыши два</td>\n",
       "      <td>neutral</td>\n",
       "      <td>eacd49c1710fed2bf3285553fa8f92e7</td>\n",
       "    </tr>\n",
       "    <tr>\n",
       "      <th>28361</th>\n",
       "      <td>408dde9f058b88a5f6bce09d6da1d7aa</td>\n",
       "      <td>wavs/408dde9f058b88a5f6bce09d6da1d7aa.wav</td>\n",
       "      <td>3.04</td>\n",
       "      <td>sad</td>\n",
       "      <td>NaN</td>\n",
       "      <td>b66143224eb320faa7dfeeb7a9229060</td>\n",
       "      <td>орел и решка</td>\n",
       "      <td>sad</td>\n",
       "      <td>1cc50e3b6be7a6f1c6313165a975ce47</td>\n",
       "    </tr>\n",
       "  </tbody>\n",
       "</table>\n",
       "</div>"
      ],
      "text/plain": [
       "                                hash_id  \\\n",
       "65254  c7832c1d9c13f947f0628f8b9d7e86e7   \n",
       "56180  740391ec199e9e745f954ac46430d983   \n",
       "77388  fa436e7c630646a13696e95283d9bc19   \n",
       "71290  76b65ca97d972aebe8eb1295ecee691c   \n",
       "65957  6657957c379bf1fb20d34adc22613e83   \n",
       "54186  6ef20c22488837d4e6bffddd69653d59   \n",
       "28361  408dde9f058b88a5f6bce09d6da1d7aa   \n",
       "\n",
       "                                      audio_path  duration annotator_emo  \\\n",
       "65254  wavs/c7832c1d9c13f947f0628f8b9d7e86e7.wav      3.30       neutral   \n",
       "56180  wavs/740391ec199e9e745f954ac46430d983.wav      4.58       neutral   \n",
       "77388  wavs/fa436e7c630646a13696e95283d9bc19.wav      3.34           sad   \n",
       "71290  wavs/76b65ca97d972aebe8eb1295ecee691c.wav      7.22       neutral   \n",
       "65957  wavs/6657957c379bf1fb20d34adc22613e83.wav      4.54       neutral   \n",
       "54186  wavs/6ef20c22488837d4e6bffddd69653d59.wav      6.60       neutral   \n",
       "28361  wavs/408dde9f058b88a5f6bce09d6da1d7aa.wav      3.04           sad   \n",
       "\n",
       "       golden_emo                      annotator_id  \\\n",
       "65254         NaN  22dfd02b50dbd35a4f42482c14c541ce   \n",
       "56180         NaN  59db5e63a0e312973f31bd85e55b90ef   \n",
       "77388         NaN  17d196344772058258b2311b6b040dd2   \n",
       "71290         NaN  25cc45cff9fd28bf0ce110525a98e46c   \n",
       "65957         3.0  afbac5212fc9378f26af0697624a8da2   \n",
       "54186         NaN  b8a0b78e0d204ba055546e4af2896e38   \n",
       "28361         NaN  b66143224eb320faa7dfeeb7a9229060   \n",
       "\n",
       "                                    speaker_text speaker_emo  \\\n",
       "65254                       акустический концерт     neutral   \n",
       "56180                       включи группу винтаж     neutral   \n",
       "77388                             байдзи огурчик         sad   \n",
       "71290                      поставь таймер на час     neutral   \n",
       "65957                       красноярские новости         sad   \n",
       "54186  смотреть как открывают новые скрепыши два     neutral   \n",
       "28361                               орел и решка         sad   \n",
       "\n",
       "                              source_id  \n",
       "65254  6242fa8c649d19ad0a0d19dace69383c  \n",
       "56180  0e411b8c14aca164260fa933b512e9aa  \n",
       "77388  542c04beb66dc5394341400d7f146757  \n",
       "71290  26cf6dbe24d68c96be4f8fed8e0393e2  \n",
       "65957  d5d65297b9534c646b9adaa1e79126b6  \n",
       "54186  eacd49c1710fed2bf3285553fa8f92e7  \n",
       "28361  1cc50e3b6be7a6f1c6313165a975ce47  "
      ]
     },
     "execution_count": 10,
     "metadata": {},
     "output_type": "execute_result"
    }
   ],
   "source": [
    "df.sample(7)"
   ]
  },
  {
   "cell_type": "code",
   "execution_count": null,
   "id": "20f55ea8",
   "metadata": {},
   "outputs": [],
   "source": []
  },
  {
   "cell_type": "code",
   "execution_count": 11,
   "id": "db8874ff",
   "metadata": {},
   "outputs": [],
   "source": [
    "import os\n",
    "import pandas as pd\n",
    "from pathlib import Path\n",
    "from sklearn.metrics import f1_score as F1, classification_report, roc_auc_score\n",
    "from sklearn.preprocessing import LabelBinarizer\n",
    "\n",
    "DATASET_PATH = r'D:\\python-datasets\\dusha'\n",
    "DATASETS = ['podcast_train', 'podcast_test', 'asr_calls_2_val', 'ChatExport',\n",
    "            'crowd_train', 'crowd_test']\n",
    "WORK_PATH = Path('.')\n",
    "\n",
    "dataset = DATASETS[-1]\n",
    "\n",
    "crowd_test = os.path.join(DATASET_PATH, dataset)\n",
    "crowd_info = os.path.join(crowd_test, f'raw_{dataset}.tsv')\n",
    "\n",
    "pred_sber = WORK_PATH.joinpath('preds.csv')\n",
    "pred_hubert = WORK_PATH.joinpath('preds_hb_crowd_test.csv')\n",
    "pred_hubertp = WORK_PATH.joinpath('preds_hb_podcast_test.csv')\n",
    "\n",
    "remap = {'sad': 'neutral', 'other': 'neutral'}"
   ]
  },
  {
   "cell_type": "code",
   "execution_count": 12,
   "id": "869f57b0",
   "metadata": {},
   "outputs": [
    {
     "name": "stdout",
     "output_type": "stream",
     "text": [
      "f1_score (4 emo) по колонке annotator_emo = 0.5524 roc_auc_score =  0.8233\n",
      "f1_score (4 emo) по колонке speaker_emo   = 0.4493 roc_auc_score =  0.7638\n",
      "f1_score (3 emo) по колонке annotator_emo = 0.8006 roc_auc_score =  0.7277\n",
      "f1_score (3 emo) по колонке speaker_emo   = 0.7032 roc_auc_score =  0.7116\n"
     ]
    }
   ],
   "source": [
    "from sklearn.metrics import f1_score as F1, classification_report, roc_auc_score\n",
    "from sklearn.preprocessing import LabelBinarizer\n",
    "\n",
    "\n",
    "prs = pd.read_csv(pred_sber)\n",
    "prs[\"speaker_emo\"].fillna(prs[\"annotator_emo\"], inplace=True)\n",
    "prs.probs = prs.probs.map(lambda x: literal_eval(', '.join(x.split()))) \n",
    "\n",
    "tst = prs.copy()\n",
    "\n",
    "remap = {'other': 'neutral'}\n",
    "\n",
    "for col in ('annotator_emo', 'speaker_emo', 'pred'):\n",
    "    prs[col] = prs[col].map(lambda x: remap.get(x, x))\n",
    "\n",
    "remap = {'sad': 'neutral', 'other': 'neutral'}\n",
    "\n",
    "for col in ('annotator_emo', 'speaker_emo', 'pred'):\n",
    "    tst[col] = tst[col].map(lambda x: remap.get(x, x))\n",
    "\n",
    "emos = {'4 emo': prs, '3 emo': tst}\n",
    "\n",
    "for emo, df in emos.items():\n",
    "    for name_col in ('annotator_emo', 'speaker_emo'):\n",
    "        # Пример истинных меток и предсказанных вероятностей для многоклассовой классификации\n",
    "        # Истинные метки классов\n",
    "        y_true = df[name_col].map(name2index)  \n",
    "        # Предсказанные вероятности для каждого класса\n",
    "        y_scores = np.concatenate(df['probs'].values)  \n",
    "        # Преобразуем истинные метки классов в бинарный формат\n",
    "        lb = LabelBinarizer()\n",
    "        y_true_bin = lb.fit_transform(y_true)\n",
    "        n_emos = len(lb.classes_)\n",
    "        roc_auc = roc_auc_score(y_true_bin, y_scores[:, :n_emos], average=\"micro\") \n",
    "        \n",
    "        print(f'f1_score ({emo}) по колонке {name_col:<13} =',\n",
    "              F1(df[name_col], df['pred'], average='weighted', zero_division=0).round(4),\n",
    "             'roc_auc_score = ', roc_auc.round(4))"
   ]
  },
  {
   "cell_type": "code",
   "execution_count": 13,
   "id": "da6e8f3a",
   "metadata": {},
   "outputs": [
    {
     "name": "stdout",
     "output_type": "stream",
     "text": [
      "              precision    recall  f1-score   support\n",
      "\n",
      "       angry       0.82      0.22      0.35      1911\n",
      "     neutral       0.72      0.55      0.62     10495\n",
      "    positive       0.57      0.41      0.48      1730\n",
      "         sad       0.34      0.81      0.48      3081\n",
      "\n",
      "    accuracy                           0.55     17217\n",
      "   macro avg       0.61      0.50      0.48     17217\n",
      "weighted avg       0.65      0.55      0.55     17217\n",
      "\n"
     ]
    }
   ],
   "source": [
    "print(classification_report(prs['annotator_emo'], prs['pred']))"
   ]
  },
  {
   "cell_type": "code",
   "execution_count": 14,
   "id": "6d523cde",
   "metadata": {},
   "outputs": [
    {
     "name": "stdout",
     "output_type": "stream",
     "text": [
      "              precision    recall  f1-score   support\n",
      "\n",
      "       angry       0.82      0.22      0.35      1911\n",
      "     neutral       0.85      0.97      0.91     13576\n",
      "    positive       0.57      0.41      0.48      1730\n",
      "\n",
      "    accuracy                           0.83     17217\n",
      "   macro avg       0.75      0.53      0.58     17217\n",
      "weighted avg       0.82      0.83      0.80     17217\n",
      "\n"
     ]
    }
   ],
   "source": [
    "print(classification_report(tst['annotator_emo'], tst['pred']))"
   ]
  },
  {
   "cell_type": "code",
   "execution_count": 15,
   "id": "8798f38f",
   "metadata": {},
   "outputs": [
    {
     "name": "stdout",
     "output_type": "stream",
     "text": [
      "f1_score (5 emo) по колонке annotator_emo = 0.7178 roc_auc_score =  0.9342\n",
      "f1_score (5 emo) по колонке speaker_emo   = 0.7313 roc_auc_score =  0.9164\n",
      "f1_score (3 emo) по колонке annotator_emo = 0.9657 roc_auc_score =  0.9736\n",
      "f1_score (3 emo) по колонке speaker_emo   = 0.9003 roc_auc_score =  0.9484\n"
     ]
    }
   ],
   "source": [
    "# результаты второй модели\n",
    "phb = pd.read_csv(pred_hubert)\n",
    "phb[\"speaker_emo\"].fillna(phb[\"annotator_emo\"], inplace=True)\n",
    "phb.probs = phb.probs.map(lambda x: literal_eval(', '.join(x.split()))) \n",
    "tst = phb.copy()\n",
    "\n",
    "for col in ('annotator_emo', 'speaker_emo', 'pred'):\n",
    "    tst[col] = tst[col].map(lambda x: remap.get(x, x))\n",
    "\n",
    "emos = {'5 emo': phb, '3 emo': tst}\n",
    "true_columns = ('annotator_emo', 'speaker_emo')\n",
    "\n",
    "for emo, df in emos.items():\n",
    "    for name_col in ('annotator_emo', 'speaker_emo'):\n",
    "        # Пример истинных меток и предсказанных вероятностей для многоклассовой классификации\n",
    "        # Истинные метки классов\n",
    "        y_true = df[name_col].map(emotion2num)  \n",
    "        # Предсказанные вероятности для каждого класса\n",
    "        y_scores = np.concatenate(df['probs'].values)  \n",
    "        # Преобразуем истинные метки классов в бинарный формат\n",
    "        lb = LabelBinarizer()\n",
    "        y_true_bin = lb.fit_transform(y_true)\n",
    "        n_emos = len(lb.classes_)\n",
    "        roc_auc = roc_auc_score(y_true_bin, y_scores[:, :n_emos], average=\"micro\") \n",
    "        \n",
    "        print(f'f1_score ({emo}) по колонке {name_col:<13} =',\n",
    "              F1(df[name_col], df['pred'], average='weighted', zero_division=0).round(4),\n",
    "             'roc_auc_score = ', roc_auc.round(4))"
   ]
  },
  {
   "cell_type": "code",
   "execution_count": 16,
   "id": "3a9cc1bc",
   "metadata": {},
   "outputs": [
    {
     "name": "stdout",
     "output_type": "stream",
     "text": [
      "5 emo по колонке annotator_emo:\n",
      "              precision    recall  f1-score   support\n",
      "\n",
      "       angry       0.85      0.88      0.86      1278\n",
      "     neutral       0.74      0.83      0.78     10372\n",
      "       other       0.89      0.31      0.46       377\n",
      "    positive       0.83      0.85      0.84      1015\n",
      "         sad       0.60      0.48      0.54      4944\n",
      "\n",
      "    accuracy                           0.73     17986\n",
      "   macro avg       0.78      0.67      0.70     17986\n",
      "weighted avg       0.72      0.73      0.72     17986\n",
      "\n",
      "5 emo по колонке speaker_emo  :\n",
      "              precision    recall  f1-score   support\n",
      "\n",
      "       angry       0.92      0.60      0.73      2019\n",
      "     neutral       0.67      0.93      0.78      8320\n",
      "       other       0.00      0.00      0.00         0\n",
      "    positive       0.88      0.57      0.69      1594\n",
      "         sad       0.85      0.56      0.68      6053\n",
      "\n",
      "    accuracy                           0.74     17986\n",
      "   macro avg       0.66      0.53      0.57     17986\n",
      "weighted avg       0.78      0.74      0.73     17986\n",
      "\n",
      "3 emo по колонке annotator_emo:\n",
      "              precision    recall  f1-score   support\n",
      "\n",
      "       angry       0.85      0.88      0.86      1278\n",
      "     neutral       0.98      0.98      0.98     15693\n",
      "    positive       0.83      0.85      0.84      1015\n",
      "\n",
      "    accuracy                           0.97     17986\n",
      "   macro avg       0.89      0.90      0.90     17986\n",
      "weighted avg       0.97      0.97      0.97     17986\n",
      "\n",
      "3 emo по колонке speaker_emo  :\n",
      "              precision    recall  f1-score   support\n",
      "\n",
      "       angry       0.92      0.60      0.73      2019\n",
      "     neutral       0.91      0.99      0.95     14373\n",
      "    positive       0.88      0.57      0.69      1594\n",
      "\n",
      "    accuracy                           0.91     17986\n",
      "   macro avg       0.90      0.72      0.79     17986\n",
      "weighted avg       0.91      0.91      0.90     17986\n",
      "\n"
     ]
    }
   ],
   "source": [
    "for emo, df in emos.items():\n",
    "    for name_col in ('annotator_emo', 'speaker_emo'):\n",
    "        print(f'{emo} по колонке {name_col:<13}:')\n",
    "        print(classification_report(df[name_col], df['pred'], zero_division=0))\n",
    "        # print(roc_auc_score(df[name_col], df['pred']))"
   ]
  },
  {
   "cell_type": "code",
   "execution_count": 17,
   "id": "414b0251",
   "metadata": {},
   "outputs": [],
   "source": [
    "# результаты второй модели на 'podcast_test'\n",
    "phb = pd.read_csv(pred_hubertp)\n",
    "phb[\"speaker_emo\"].fillna(phb[\"annotator_emo\"], inplace=True)\n",
    "phb.probs = phb.probs.map(lambda x: literal_eval(', '.join(x.split()))) "
   ]
  },
  {
   "cell_type": "code",
   "execution_count": 18,
   "id": "0b2f9a5e",
   "metadata": {},
   "outputs": [
    {
     "name": "stdout",
     "output_type": "stream",
     "text": [
      "f1_score (5 emo) по колонке annotator_emo = 0.8174 roc_auc_score =  0.8951\n",
      "f1_score (3 emo) по колонке annotator_emo = 0.8332 roc_auc_score =  0.8951\n"
     ]
    }
   ],
   "source": [
    "tst = phb.copy()\n",
    "\n",
    "for col in ('annotator_emo', 'speaker_emo', 'pred'):\n",
    "    tst[col] = tst[col].map(lambda x: remap.get(x, x))\n",
    "\n",
    "emos = {'5 emo': phb, '3 emo': tst}\n",
    "true_columns = ('annotator_emo', 'speaker_emo')\n",
    "        \n",
    "for emo, df in emos.items():\n",
    "    for name_col in ('annotator_emo', ):\n",
    "        # Пример истинных меток и предсказанных вероятностей для многоклассовой классификации\n",
    "        # Истинные метки классов\n",
    "        y_true = df[name_col].map(emotion2num)  \n",
    "        # Предсказанные вероятности для каждого класса\n",
    "        y_scores = np.concatenate(df['probs'].values)  \n",
    "        # Преобразуем истинные метки классов в бинарный формат\n",
    "        lb = LabelBinarizer()\n",
    "        y_true_bin = lb.fit_transform(y_true)\n",
    "        n_emos = len(lb.classes_)\n",
    "        roc_auc = roc_auc_score(y_true_bin, y_scores[:, :n_emos], average=\"micro\") \n",
    "        \n",
    "        print(f'f1_score ({emo}) по колонке {name_col:<13} =',\n",
    "              F1(df[name_col], df['pred'], average='weighted', zero_division=0).round(4),\n",
    "             'roc_auc_score = ', roc_auc.round(4))      "
   ]
  },
  {
   "cell_type": "code",
   "execution_count": 19,
   "id": "34e5e846",
   "metadata": {},
   "outputs": [
    {
     "data": {
      "text/plain": [
       "(0.8951490321818083, 0.9273721895962813, 0.9096931045035455)"
      ]
     },
     "execution_count": 19,
     "metadata": {},
     "output_type": "execute_result"
    }
   ],
   "source": [
    "(roc_auc_score(y_true_bin, y_scores[:, :n_emos], average=\"micro\"), \n",
    "roc_auc_score(y_true_bin, y_scores[:, :n_emos], average=\"macro\"), \n",
    "roc_auc_score(y_true_bin, y_scores[:, :n_emos], average=\"weighted\") )"
   ]
  },
  {
   "cell_type": "code",
   "execution_count": 20,
   "id": "db7eb455",
   "metadata": {},
   "outputs": [
    {
     "name": "stdout",
     "output_type": "stream",
     "text": [
      "5 emo по колонке annotator_emo:\n",
      "              precision    recall  f1-score   support\n",
      "\n",
      "       angry       0.02      0.91      0.03        23\n",
      "     neutral       1.00      0.71      0.83      9865\n",
      "       other       0.00      0.00      0.00         0\n",
      "    positive       0.06      0.83      0.11        99\n",
      "         sad       0.00      0.00      0.00         0\n",
      "\n",
      "    accuracy                           0.71      9987\n",
      "   macro avg       0.21      0.49      0.19      9987\n",
      "weighted avg       0.99      0.71      0.82      9987\n",
      "\n",
      "3 emo по колонке annotator_emo:\n",
      "              precision    recall  f1-score   support\n",
      "\n",
      "       angry       0.02      0.91      0.03        23\n",
      "     neutral       1.00      0.73      0.84      9865\n",
      "    positive       0.06      0.83      0.11        99\n",
      "\n",
      "    accuracy                           0.73      9987\n",
      "   macro avg       0.36      0.82      0.33      9987\n",
      "weighted avg       0.99      0.73      0.83      9987\n",
      "\n"
     ]
    }
   ],
   "source": [
    "for emo, df in emos.items():\n",
    "    for name_col in ('annotator_emo', ):\n",
    "        print(f'{emo} по колонке {name_col:<13}:')\n",
    "        print(classification_report(df[name_col], df['pred'], zero_division=0))\n",
    "        # print(roc_auc_score(df[name_col], df['pred']))"
   ]
  },
  {
   "cell_type": "code",
   "execution_count": 21,
   "id": "cb73f597",
   "metadata": {},
   "outputs": [],
   "source": [
    "pred_mp3 = WORK_PATH.joinpath('from_mp3.csv')\n",
    "mp3 = pd.read_csv(pred_mp3)"
   ]
  },
  {
   "cell_type": "code",
   "execution_count": 22,
   "id": "1e1ff92d",
   "metadata": {},
   "outputs": [
    {
     "data": {
      "text/html": [
       "<div>\n",
       "<style scoped>\n",
       "    .dataframe tbody tr th:only-of-type {\n",
       "        vertical-align: middle;\n",
       "    }\n",
       "\n",
       "    .dataframe tbody tr th {\n",
       "        vertical-align: top;\n",
       "    }\n",
       "\n",
       "    .dataframe thead th {\n",
       "        text-align: right;\n",
       "    }\n",
       "</style>\n",
       "<table border=\"1\" class=\"dataframe\">\n",
       "  <thead>\n",
       "    <tr style=\"text-align: right;\">\n",
       "      <th></th>\n",
       "      <th>file</th>\n",
       "      <th>pred</th>\n",
       "    </tr>\n",
       "  </thead>\n",
       "  <tbody>\n",
       "    <tr>\n",
       "      <th>0</th>\n",
       "      <td>Звонок в ТехПоддержку  САРРАСАРРА ВЕЙ ИЗ МИР Ш...</td>\n",
       "      <td>positive</td>\n",
       "    </tr>\n",
       "    <tr>\n",
       "      <th>1</th>\n",
       "      <td>Звонок в техподдержку КорбинаТелеком  Во дает.mp3</td>\n",
       "      <td>angry</td>\n",
       "    </tr>\n",
       "    <tr>\n",
       "      <th>2</th>\n",
       "      <td>Corbina — Звонок в техподдержку.mp3</td>\n",
       "      <td>positive</td>\n",
       "    </tr>\n",
       "    <tr>\n",
       "      <th>3</th>\n",
       "      <td>Звонок в техподдержку MegaFon  Неслышат звонок...</td>\n",
       "      <td>angry</td>\n",
       "    </tr>\n",
       "    <tr>\n",
       "      <th>4</th>\n",
       "      <td>Nightmare  Звонок в техподдержку Rambler.mp3</td>\n",
       "      <td>neutral</td>\n",
       "    </tr>\n",
       "    <tr>\n",
       "      <th>...</th>\n",
       "      <td>...</td>\n",
       "      <td>...</td>\n",
       "    </tr>\n",
       "    <tr>\n",
       "      <th>165</th>\n",
       "      <td>Звонок в техподдержку — Интернет без.mp3</td>\n",
       "      <td>neutral</td>\n",
       "    </tr>\n",
       "    <tr>\n",
       "      <th>166</th>\n",
       "      <td>Звонок в техподдержку — Ошибка.mp3</td>\n",
       "      <td>angry</td>\n",
       "    </tr>\n",
       "    <tr>\n",
       "      <th>167</th>\n",
       "      <td>Звонок в техподдержку майкрософт  с просьбой к...</td>\n",
       "      <td>positive</td>\n",
       "    </tr>\n",
       "    <tr>\n",
       "      <th>168</th>\n",
       "      <td>КОРБИНА — Нет Интернета.mp3</td>\n",
       "      <td>positive</td>\n",
       "    </tr>\n",
       "    <tr>\n",
       "      <th>169</th>\n",
       "      <td>Звонок в техподдержку  Убедительная просьба по...</td>\n",
       "      <td>positive</td>\n",
       "    </tr>\n",
       "  </tbody>\n",
       "</table>\n",
       "<p>170 rows × 2 columns</p>\n",
       "</div>"
      ],
      "text/plain": [
       "                                                  file      pred\n",
       "0    Звонок в ТехПоддержку  САРРАСАРРА ВЕЙ ИЗ МИР Ш...  positive\n",
       "1    Звонок в техподдержку КорбинаТелеком  Во дает.mp3     angry\n",
       "2                  Corbina — Звонок в техподдержку.mp3  positive\n",
       "3    Звонок в техподдержку MegaFon  Неслышат звонок...     angry\n",
       "4         Nightmare  Звонок в техподдержку Rambler.mp3   neutral\n",
       "..                                                 ...       ...\n",
       "165           Звонок в техподдержку — Интернет без.mp3   neutral\n",
       "166                 Звонок в техподдержку — Ошибка.mp3     angry\n",
       "167  Звонок в техподдержку майкрософт  с просьбой к...  positive\n",
       "168                        КОРБИНА — Нет Интернета.mp3  positive\n",
       "169  Звонок в техподдержку  Убедительная просьба по...  positive\n",
       "\n",
       "[170 rows x 2 columns]"
      ]
     },
     "execution_count": 22,
     "metadata": {},
     "output_type": "execute_result"
    }
   ],
   "source": [
    "mp3"
   ]
  },
  {
   "cell_type": "code",
   "execution_count": 23,
   "id": "834b60ee",
   "metadata": {},
   "outputs": [
    {
     "data": {
      "text/plain": [
       "positive    74\n",
       "neutral     54\n",
       "angry       35\n",
       "other        7\n",
       "Name: pred, dtype: int64"
      ]
     },
     "execution_count": 23,
     "metadata": {},
     "output_type": "execute_result"
    }
   ],
   "source": [
    "mp3.pred.value_counts()"
   ]
  },
  {
   "cell_type": "markdown",
   "id": "e53eb5aa",
   "metadata": {},
   "source": [
    "#### Результаты подбора параметров разделения аудиофайла на слова по паузам"
   ]
  },
  {
   "cell_type": "code",
   "execution_count": 24,
   "id": "29d5de63",
   "metadata": {},
   "outputs": [
    {
     "data": {
      "text/html": [
       "<div>\n",
       "<style scoped>\n",
       "    .dataframe tbody tr th:only-of-type {\n",
       "        vertical-align: middle;\n",
       "    }\n",
       "\n",
       "    .dataframe tbody tr th {\n",
       "        vertical-align: top;\n",
       "    }\n",
       "\n",
       "    .dataframe thead th {\n",
       "        text-align: right;\n",
       "    }\n",
       "</style>\n",
       "<table border=\"1\" class=\"dataframe\">\n",
       "  <thead>\n",
       "    <tr style=\"text-align: right;\">\n",
       "      <th></th>\n",
       "      <th>dataset</th>\n",
       "      <th>min_silence_len</th>\n",
       "      <th>silence_thresh</th>\n",
       "      <th>N_words</th>\n",
       "      <th>precision</th>\n",
       "      <th>recall</th>\n",
       "      <th>f1</th>\n",
       "      <th>MAE</th>\n",
       "      <th>RMSE</th>\n",
       "      <th>R2</th>\n",
       "    </tr>\n",
       "  </thead>\n",
       "  <tbody>\n",
       "    <tr>\n",
       "      <th>0</th>\n",
       "      <td>asr_calls_2_val</td>\n",
       "      <td>50</td>\n",
       "      <td>-22</td>\n",
       "      <td>3</td>\n",
       "      <td>1</td>\n",
       "      <td>0.866564</td>\n",
       "      <td>0.928512</td>\n",
       "      <td>1.832819</td>\n",
       "      <td>2.644073</td>\n",
       "      <td>0</td>\n",
       "    </tr>\n",
       "    <tr>\n",
       "      <th>1</th>\n",
       "      <td>asr_calls_2_val</td>\n",
       "      <td>50</td>\n",
       "      <td>-21</td>\n",
       "      <td>3</td>\n",
       "      <td>1</td>\n",
       "      <td>0.864324</td>\n",
       "      <td>0.927225</td>\n",
       "      <td>1.826486</td>\n",
       "      <td>2.628754</td>\n",
       "      <td>0</td>\n",
       "    </tr>\n",
       "    <tr>\n",
       "      <th>2</th>\n",
       "      <td>asr_calls_2_val</td>\n",
       "      <td>50</td>\n",
       "      <td>-20</td>\n",
       "      <td>3</td>\n",
       "      <td>1</td>\n",
       "      <td>0.862857</td>\n",
       "      <td>0.926380</td>\n",
       "      <td>1.827490</td>\n",
       "      <td>2.642130</td>\n",
       "      <td>0</td>\n",
       "    </tr>\n",
       "    <tr>\n",
       "      <th>3</th>\n",
       "      <td>asr_calls_2_val</td>\n",
       "      <td>50</td>\n",
       "      <td>-23</td>\n",
       "      <td>3</td>\n",
       "      <td>1</td>\n",
       "      <td>0.862703</td>\n",
       "      <td>0.926291</td>\n",
       "      <td>1.851042</td>\n",
       "      <td>2.674706</td>\n",
       "      <td>0</td>\n",
       "    </tr>\n",
       "    <tr>\n",
       "      <th>4</th>\n",
       "      <td>asr_calls_2_val</td>\n",
       "      <td>50</td>\n",
       "      <td>-19</td>\n",
       "      <td>3</td>\n",
       "      <td>1</td>\n",
       "      <td>0.860232</td>\n",
       "      <td>0.924865</td>\n",
       "      <td>1.856525</td>\n",
       "      <td>2.668854</td>\n",
       "      <td>0</td>\n",
       "    </tr>\n",
       "    <tr>\n",
       "      <th>...</th>\n",
       "      <td>...</td>\n",
       "      <td>...</td>\n",
       "      <td>...</td>\n",
       "      <td>...</td>\n",
       "      <td>...</td>\n",
       "      <td>...</td>\n",
       "      <td>...</td>\n",
       "      <td>...</td>\n",
       "      <td>...</td>\n",
       "      <td>...</td>\n",
       "    </tr>\n",
       "    <tr>\n",
       "      <th>2223</th>\n",
       "      <td>crowd_test</td>\n",
       "      <td>300</td>\n",
       "      <td>-16</td>\n",
       "      <td>0</td>\n",
       "      <td>1</td>\n",
       "      <td>0.088185</td>\n",
       "      <td>0.162077</td>\n",
       "      <td>2.667890</td>\n",
       "      <td>3.455697</td>\n",
       "      <td>0</td>\n",
       "    </tr>\n",
       "    <tr>\n",
       "      <th>2224</th>\n",
       "      <td>crowd_test</td>\n",
       "      <td>300</td>\n",
       "      <td>-15</td>\n",
       "      <td>3</td>\n",
       "      <td>1</td>\n",
       "      <td>0.702808</td>\n",
       "      <td>0.825469</td>\n",
       "      <td>2.897137</td>\n",
       "      <td>3.675018</td>\n",
       "      <td>0</td>\n",
       "    </tr>\n",
       "    <tr>\n",
       "      <th>2225</th>\n",
       "      <td>crowd_test</td>\n",
       "      <td>300</td>\n",
       "      <td>-15</td>\n",
       "      <td>2</td>\n",
       "      <td>1</td>\n",
       "      <td>0.503976</td>\n",
       "      <td>0.670191</td>\n",
       "      <td>2.897137</td>\n",
       "      <td>3.675018</td>\n",
       "      <td>0</td>\n",
       "    </tr>\n",
       "    <tr>\n",
       "      <th>2226</th>\n",
       "      <td>crowd_test</td>\n",
       "      <td>300</td>\n",
       "      <td>-15</td>\n",
       "      <td>1</td>\n",
       "      <td>1</td>\n",
       "      <td>0.260940</td>\n",
       "      <td>0.413881</td>\n",
       "      <td>2.897137</td>\n",
       "      <td>3.675018</td>\n",
       "      <td>0</td>\n",
       "    </tr>\n",
       "    <tr>\n",
       "      <th>2227</th>\n",
       "      <td>crowd_test</td>\n",
       "      <td>300</td>\n",
       "      <td>-15</td>\n",
       "      <td>0</td>\n",
       "      <td>1</td>\n",
       "      <td>0.068668</td>\n",
       "      <td>0.128512</td>\n",
       "      <td>2.897137</td>\n",
       "      <td>3.675018</td>\n",
       "      <td>0</td>\n",
       "    </tr>\n",
       "  </tbody>\n",
       "</table>\n",
       "<p>2228 rows × 10 columns</p>\n",
       "</div>"
      ],
      "text/plain": [
       "              dataset  min_silence_len  silence_thresh  N_words  precision  \\\n",
       "0     asr_calls_2_val               50             -22        3          1   \n",
       "1     asr_calls_2_val               50             -21        3          1   \n",
       "2     asr_calls_2_val               50             -20        3          1   \n",
       "3     asr_calls_2_val               50             -23        3          1   \n",
       "4     asr_calls_2_val               50             -19        3          1   \n",
       "...               ...              ...             ...      ...        ...   \n",
       "2223       crowd_test              300             -16        0          1   \n",
       "2224       crowd_test              300             -15        3          1   \n",
       "2225       crowd_test              300             -15        2          1   \n",
       "2226       crowd_test              300             -15        1          1   \n",
       "2227       crowd_test              300             -15        0          1   \n",
       "\n",
       "        recall        f1       MAE      RMSE  R2  \n",
       "0     0.866564  0.928512  1.832819  2.644073   0  \n",
       "1     0.864324  0.927225  1.826486  2.628754   0  \n",
       "2     0.862857  0.926380  1.827490  2.642130   0  \n",
       "3     0.862703  0.926291  1.851042  2.674706   0  \n",
       "4     0.860232  0.924865  1.856525  2.668854   0  \n",
       "...        ...       ...       ...       ...  ..  \n",
       "2223  0.088185  0.162077  2.667890  3.455697   0  \n",
       "2224  0.702808  0.825469  2.897137  3.675018   0  \n",
       "2225  0.503976  0.670191  2.897137  3.675018   0  \n",
       "2226  0.260940  0.413881  2.897137  3.675018   0  \n",
       "2227  0.068668  0.128512  2.897137  3.675018   0  \n",
       "\n",
       "[2228 rows x 10 columns]"
      ]
     },
     "execution_count": 24,
     "metadata": {},
     "output_type": "execute_result"
    }
   ],
   "source": [
    "res = pd.read_csv('results_calc_words.csv')\n",
    "res"
   ]
  },
  {
   "cell_type": "code",
   "execution_count": 25,
   "id": "a17d1c8b",
   "metadata": {},
   "outputs": [
    {
     "name": "stdout",
     "output_type": "stream",
     "text": [
      "\n",
      "Пороговое количество слов: 0\n",
      "\n",
      "Максимальный F1 по датасетам:\n",
      "              dataset  min_silence_len  silence_thresh        f1\n",
      "291   asr_calls_2_val               50             -20  0.349057\n",
      "483        chatexport               50             -29  0.211538\n",
      "1463      crowd_train              100             -18  0.386151\n",
      "1607       crowd_test              150             -20  0.409463\n",
      "\n",
      "Минимальная RMSE по датасетам:\n",
      "              dataset  min_silence_len  silence_thresh      RMSE\n",
      "295   asr_calls_2_val               50             -21  2.628754\n",
      "419        chatexport               50             -38  9.892160\n",
      "1479      crowd_train              100             -25  2.977706\n",
      "1655       crowd_test              100             -24  2.022173\n",
      "\n",
      "Пороговое количество слов: 1\n",
      "\n",
      "Максимальный F1 по датасетам:\n",
      "              dataset  min_silence_len  silence_thresh        f1\n",
      "110   asr_calls_2_val               50             -20  0.711763\n",
      "458        chatexport              100             -26  0.396552\n",
      "1302      crowd_train              100             -21  0.722760\n",
      "1634       crowd_test              150             -21  0.774029\n",
      "\n",
      "Минимальная RMSE по датасетам:\n",
      "              dataset  min_silence_len  silence_thresh      RMSE\n",
      "113   asr_calls_2_val               50             -21  2.628754\n",
      "418        chatexport               50             -38  9.892160\n",
      "1306      crowd_train              100             -25  2.977706\n",
      "1606       crowd_test              100             -24  2.022173\n",
      "\n",
      "Пороговое количество слов: 2\n",
      "\n",
      "Максимальный F1 по датасетам:\n",
      "              dataset  min_silence_len  silence_thresh        f1\n",
      "29    asr_calls_2_val               50             -20  0.861388\n",
      "461        chatexport              100             -25  0.552529\n",
      "1103      crowd_train              100             -20  0.852924\n",
      "1605       crowd_test              100             -24  0.907915\n",
      "\n",
      "Минимальная RMSE по датасетам:\n",
      "              dataset  min_silence_len  silence_thresh      RMSE\n",
      "31    asr_calls_2_val               50             -21  2.628754\n",
      "417        chatexport               50             -38  9.892160\n",
      "1113      crowd_train              100             -25  2.977706\n",
      "1605       crowd_test              100             -24  2.022173\n",
      "\n",
      "Пороговое количество слов: 3\n",
      "\n",
      "Максимальный F1 по датасетам:\n",
      "              dataset  min_silence_len  silence_thresh        f1\n",
      "0     asr_calls_2_val               50             -22  0.928512\n",
      "416        chatexport               50             -38  0.627306\n",
      "1040      crowd_train              100             -20  0.918373\n",
      "1604       crowd_test              100             -25  0.963221\n",
      "\n",
      "Минимальная RMSE по датасетам:\n",
      "              dataset  min_silence_len  silence_thresh      RMSE\n",
      "1     asr_calls_2_val               50             -21  2.628754\n",
      "416        chatexport               50             -38  9.892160\n",
      "1041      crowd_train              100             -25  2.977706\n",
      "1612       crowd_test              100             -24  2.022173\n"
     ]
    }
   ],
   "source": [
    "n_words = sorted(res.N_words.unique())\n",
    "show_f1 = ['dataset', 'min_silence_len', 'silence_thresh', 'f1']\n",
    "show_rmse = ['dataset', 'min_silence_len', 'silence_thresh', 'RMSE']\n",
    "result = pd.DataFrame()\n",
    "for n in n_words:\n",
    "    tmp = res[res['N_words'] == n]\n",
    "    tmp['max_F1'] = tmp.groupby('dataset')['f1'].transform('max')\n",
    "    tmp['min_RMSE'] = tmp.groupby('dataset')['RMSE'].transform('min')\n",
    "    print(f'\\nПороговое количество слов: {n}')\n",
    "    print('\\nМаксимальный F1 по датасетам:')\n",
    "    temp1 = tmp[tmp['max_F1'] == tmp['f1']].drop_duplicates(['dataset', 'f1'])[show_f1]\n",
    "    result = pd.concat([result, temp1[show_f1[:-1]]])\n",
    "    print(temp1)\n",
    "    print('\\nМинимальная RMSE по датасетам:')\n",
    "    temp2 = tmp[tmp.min_RMSE == tmp['RMSE']].drop_duplicates(['dataset', 'RMSE'])[show_rmse]\n",
    "    result = pd.concat([result, temp2[show_rmse[:-1]]])\n",
    "    print(temp2)"
   ]
  },
  {
   "cell_type": "code",
   "execution_count": 26,
   "id": "efd721b1",
   "metadata": {},
   "outputs": [
    {
     "name": "stdout",
     "output_type": "stream",
     "text": [
      "Оптимальная длительность паузы: 100 мСек\n",
      "Уровень шума в паузе: -22 дБ\n"
     ]
    }
   ],
   "source": [
    "print(f'Оптимальная длительность паузы: {int(result.min_silence_len.mode().mean())} мСек')\n",
    "print(f'Уровень шума в паузе: {int(result.silence_thresh.mode().mean())} дБ')"
   ]
  },
  {
   "cell_type": "code",
   "execution_count": null,
   "id": "7cb2c136",
   "metadata": {},
   "outputs": [],
   "source": []
  }
 ],
 "metadata": {
  "kernelspec": {
   "display_name": "Python 3",
   "language": "python",
   "name": "python3"
  },
  "language_info": {
   "codemirror_mode": {
    "name": "ipython",
    "version": 3
   },
   "file_extension": ".py",
   "mimetype": "text/x-python",
   "name": "python",
   "nbconvert_exporter": "python",
   "pygments_lexer": "ipython3",
   "version": "3.8.8"
  }
 },
 "nbformat": 4,
 "nbformat_minor": 5
}
